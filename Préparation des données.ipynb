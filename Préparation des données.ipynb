{
 "cells": [
  {
   "cell_type": "code",
   "execution_count": 1,
   "metadata": {},
   "outputs": [],
   "source": [
    "import pandas as pd\n",
    "import numpy as np"
   ]
  },
  {
   "cell_type": "code",
   "execution_count": 2,
   "metadata": {},
   "outputs": [],
   "source": [
    "import datetime as DT"
   ]
  },
  {
   "cell_type": "code",
   "execution_count": 3,
   "metadata": {},
   "outputs": [],
   "source": [
    "from matplotlib import pyplot as plt"
   ]
  },
  {
   "cell_type": "code",
   "execution_count": 4,
   "metadata": {},
   "outputs": [],
   "source": [
    "import seaborn as sns"
   ]
  },
  {
   "cell_type": "markdown",
   "metadata": {},
   "source": [
    "# Lecture des fichiers"
   ]
  },
  {
   "cell_type": "code",
   "execution_count": 5,
   "metadata": {},
   "outputs": [],
   "source": [
    "file_comptes = pd.read_table(\"C:/Users/hp/pfedossier/Comptes.txt\", sep= \"|\")"
   ]
  },
  {
   "cell_type": "code",
   "execution_count": 18,
   "metadata": {},
   "outputs": [],
   "source": [
    "file_comptes['Devise']= file_comptes['Devise'].replace('XOF','MGA', regex=True)"
   ]
  },
  {
   "cell_type": "code",
   "execution_count": null,
   "metadata": {},
   "outputs": [],
   "source": [
    "file_comptes['SECTEURA']"
   ]
  },
  {
   "cell_type": "code",
   "execution_count": null,
   "metadata": {},
   "outputs": [],
   "source": [
    "file_pret = pd.read_table(\"C:/Users/hp/pfedossier/prets.txt\", sep= \"|\")"
   ]
  },
  {
   "cell_type": "code",
   "execution_count": null,
   "metadata": {},
   "outputs": [],
   "source": [
    "file_pret['DevisePret']= file_pret['DevisePret'].replace('XOF','MGA', regex=True)"
   ]
  },
  {
   "cell_type": "code",
   "execution_count": null,
   "metadata": {},
   "outputs": [],
   "source": [
    "file_pret"
   ]
  },
  {
   "cell_type": "code",
   "execution_count": null,
   "metadata": {},
   "outputs": [],
   "source": [
    "file_pret.info()"
   ]
  },
  {
   "cell_type": "code",
   "execution_count": null,
   "metadata": {},
   "outputs": [],
   "source": [
    "file_clients = pd.read_table(\"C:/Users/hp/pfedossier/Client.txt\", sep= \"|\")"
   ]
  },
  {
   "cell_type": "code",
   "execution_count": null,
   "metadata": {},
   "outputs": [],
   "source": [
    "file_typepret =pd.read_table(\"C:/Users/hp/pfedossier/TypePret.txt\")"
   ]
  },
  {
   "cell_type": "code",
   "execution_count": null,
   "metadata": {},
   "outputs": [],
   "source": [
    "# extraction des colonnes à partir du fichier clients\n",
    "info_cli=file_clients[['Client','DateNaissance','Segment','Sexe','Profession','SituationMatrimoniale','Revenus','SECTEURA','Nationalite']]"
   ]
  },
  {
   "cell_type": "code",
   "execution_count": null,
   "metadata": {},
   "outputs": [],
   "source": [
    "file_clients.info()"
   ]
  },
  {
   "cell_type": "code",
   "execution_count": null,
   "metadata": {},
   "outputs": [],
   "source": [
    "#sélection des prets >'2019-01-01'\n",
    "tes=file_pret.loc[(file_pret['DateDebPret']>\"2019-01-01\"),:]"
   ]
  },
  {
   "cell_type": "code",
   "execution_count": null,
   "metadata": {},
   "outputs": [],
   "source": [
    "# extraction des colonnes à partir du fichier prets\n",
    "pret=tes[['Compte','TypePret','DateDebPret','NbImpayesActuel','MtPretInit','NbEcheancePretInit']]"
   ]
  },
  {
   "cell_type": "markdown",
   "metadata": {},
   "source": [
    "calcul de l'historique"
   ]
  },
  {
   "cell_type": "code",
   "execution_count": null,
   "metadata": {},
   "outputs": [],
   "source": [
    "test=file_pret.loc[(file_pret['DateDebPret']<\"2019-01-01\")&(file_pret['DateEchPretInit']<\"2018-01-01\"),:]"
   ]
  },
  {
   "cell_type": "code",
   "execution_count": null,
   "metadata": {},
   "outputs": [],
   "source": [
    "min(test['DateEchPretInit'])"
   ]
  },
  {
   "cell_type": "code",
   "execution_count": null,
   "metadata": {},
   "outputs": [],
   "source": [
    "file_pr=test[['TypePret','Client','DateDebPret']]"
   ]
  },
  {
   "cell_type": "code",
   "execution_count": null,
   "metadata": {},
   "outputs": [],
   "source": [
    "file_pr=file_pr.drop_duplicates()"
   ]
  },
  {
   "cell_type": "code",
   "execution_count": null,
   "metadata": {},
   "outputs": [],
   "source": [
    "#calcul du nmb de pret\n",
    "file_pr['NbPret']=file_pr.groupby('Client')['TypePret'].transform('size')"
   ]
  },
  {
   "cell_type": "code",
   "execution_count": null,
   "metadata": {},
   "outputs": [],
   "source": [
    "#suppression descolonnes qui vont pas être utilisées\n",
    "file_pr=file_pr.drop(['TypePret','DateDebPret'],axis=1)"
   ]
  },
  {
   "cell_type": "code",
   "execution_count": null,
   "metadata": {},
   "outputs": [],
   "source": [
    "#aprés calcul du NbPret on va merger les fichiers\n",
    "\n",
    "file_c=pd.merge(  file_comptes[['Client','Compte']]\n",
    "                ,file_pr,\n",
    "                                  on ='Client' )"
   ]
  },
  {
   "cell_type": "code",
   "execution_count": null,
   "metadata": {},
   "outputs": [],
   "source": [
    "file_c=file_c.drop_duplicates()"
   ]
  },
  {
   "cell_type": "code",
   "execution_count": 45,
   "metadata": {},
   "outputs": [],
   "source": [
    "file= pd.read_table(\"C:/Users/hp/pfedossier/fichier_aprés_pre_processing\",sep='|')"
   ]
  },
  {
   "cell_type": "code",
   "execution_count": 59,
   "metadata": {},
   "outputs": [],
   "source": [
    "import csv\n",
    "file.to_csv('fichier_aprés_pre_processing',sep='|')"
   ]
  },
  {
   "cell_type": "code",
   "execution_count": 62,
   "metadata": {},
   "outputs": [
    {
     "name": "stdout",
     "output_type": "stream",
     "text": [
      "<class 'pandas.core.frame.DataFrame'>\n",
      "RangeIndex: 18523 entries, 0 to 18522\n",
      "Data columns (total 13 columns):\n",
      "Unnamed: 0               18523 non-null int64\n",
      "Client                   18523 non-null object\n",
      "NbJoursCR                18523 non-null int64\n",
      "NbJoursDB                18523 non-null int64\n",
      "SoldeCrMoyDev            18523 non-null float64\n",
      "SoldeDbMoyDev            18523 non-null float64\n",
      "nbp                      18523 non-null int64\n",
      "Statut                   18523 non-null int64\n",
      "SECTEURA                 18523 non-null object\n",
      "Sexe                     18523 non-null object\n",
      "SituationMatrimoniale    18523 non-null object\n",
      "Revenus                  18523 non-null object\n",
      "age                      18523 non-null float64\n",
      "dtypes: float64(3), int64(5), object(5)\n",
      "memory usage: 1.8+ MB\n"
     ]
    }
   ],
   "source": [
    "file.info()"
   ]
  },
  {
   "cell_type": "code",
   "execution_count": 56,
   "metadata": {},
   "outputs": [],
   "source": [
    "file['SECTEURA']=file['SECTEURA'].replace(['COMMERCE DE GROS'],\n",
    "                                              'PARTICULIERS NON SALARIES',regex=True)"
   ]
  },
  {
   "cell_type": "markdown",
   "metadata": {},
   "source": [
    "Calcul de l'âge"
   ]
  },
  {
   "cell_type": "code",
   "execution_count": null,
   "metadata": {},
   "outputs": [],
   "source": [
    "#Convertir le type de date de naissance de object à datetime\n",
    "info_cli['DateNaissance']= pd.to_datetime(info_cli['DateNaissance']) "
   ]
  },
  {
   "cell_type": "code",
   "execution_count": null,
   "metadata": {},
   "outputs": [],
   "source": [
    "#Calcul de l'âge des clients à partir de la date de naissance\n",
    "now = pd.Timestamp('now')\n",
    "info_cli['age'] = (now - info_cli['DateNaissance']).astype('<m8[Y]')    # 3"
   ]
  },
  {
   "cell_type": "code",
   "execution_count": null,
   "metadata": {},
   "outputs": [],
   "source": [
    "info_cli.drop_duplicates()"
   ]
  },
  {
   "cell_type": "code",
   "execution_count": null,
   "metadata": {},
   "outputs": [],
   "source": [
    "info_cli=info_cli.drop(['DateNaissance'],axis=1)"
   ]
  },
  {
   "cell_type": "code",
   "execution_count": null,
   "metadata": {},
   "outputs": [],
   "source": [
    "#fichier type pret ne contient pas de nom de colonne\n",
    "file_typepret.columns=['TypePret','NamePret']\n",
    "file_typepret"
   ]
  },
  {
   "cell_type": "code",
   "execution_count": null,
   "metadata": {},
   "outputs": [],
   "source": [
    "#emerge le fichier de pret avec le fichier qui contient les types de pret\n",
    "pret_typret= pd.merge(  file_typepret ,pret,\n",
    "                                  on ='TypePret' )"
   ]
  },
  {
   "cell_type": "code",
   "execution_count": null,
   "metadata": {},
   "outputs": [],
   "source": [
    "pret_typret=pret_typret.drop_duplicates()"
   ]
  },
  {
   "cell_type": "code",
   "execution_count": null,
   "metadata": {},
   "outputs": [],
   "source": [
    "#Aprés jointure on supprime la colonne \n",
    "pret_typret=pret_typret.drop(['TypePret'],axis=1)\n",
    "pret_typret"
   ]
  },
  {
   "cell_type": "code",
   "execution_count": null,
   "metadata": {},
   "outputs": [],
   "source": [
    "#le compte a des valeurs NbImpayesActuel répétées \n",
    "pret_typret['NbImpayesActuel']=pret_typret.groupby(['Compte'])['NbImpayesActuel'].transform(max)"
   ]
  },
  {
   "cell_type": "code",
   "execution_count": null,
   "metadata": {},
   "outputs": [],
   "source": [
    "pret_typret['Compte'].nunique()"
   ]
  },
  {
   "cell_type": "code",
   "execution_count": null,
   "metadata": {},
   "outputs": [],
   "source": [
    "# merge des fichiers info_cli & train_aux qui contient le nb de pret pour chaque client le nb d'impayes actuel\n",
    "\n",
    "file_d= pd.merge(  pret_typret ,file_c,\n",
    "                                  on ='Compte' )"
   ]
  },
  {
   "cell_type": "code",
   "execution_count": null,
   "metadata": {},
   "outputs": [],
   "source": [
    "file_d=file_d.drop_duplicates()"
   ]
  },
  {
   "cell_type": "code",
   "execution_count": null,
   "metadata": {},
   "outputs": [],
   "source": [
    "# merge des fichiers file_d & file_ qui contient le nb de pret pour chaque client le nb d'impayes actuel\n",
    "file_f= pd.merge( file_d ,info_cli,\n",
    "                                  on ='Client' )"
   ]
  },
  {
   "cell_type": "code",
   "execution_count": null,
   "metadata": {},
   "outputs": [],
   "source": [
    "file_f=file_f.drop(['Client','Segment'],axis=1)"
   ]
  },
  {
   "cell_type": "code",
   "execution_count": null,
   "metadata": {},
   "outputs": [],
   "source": [
    "file_f['Statut']=file_f[\"NbImpayesActuel\"].map(lambda x: 1 if x >= 3\n",
    "                                                 else 0 if x < 3\n",
    "                                                 else -1)"
   ]
  },
  {
   "cell_type": "code",
   "execution_count": null,
   "metadata": {},
   "outputs": [],
   "source": [
    "file_f['Nationalite']= file_f['Nationalite'].replace('SN','MG', regex=True)"
   ]
  },
  {
   "cell_type": "code",
   "execution_count": null,
   "metadata": {},
   "outputs": [],
   "source": [
    "file_f['SECTEURA'].value_counts()"
   ]
  },
  {
   "cell_type": "code",
   "execution_count": null,
   "metadata": {},
   "outputs": [],
   "source": [
    "file_f['SECTEURA']=file_f['SECTEURA'].replace(['AUTRES COMMERCE DE GROS','AUTRES ACTIVITES ANNEXES','comptes interne','SERVICES DE REPARATION',\n",
    "                                             'IMPORT DISTR CARB COMBUS'],'PARTICULIERS NON SALARIES',regex=True)"
   ]
  },
  {
   "cell_type": "code",
   "execution_count": null,
   "metadata": {},
   "outputs": [],
   "source": [
    "file_f['SECTEURA']=file_f['SECTEURA'].replace(['TRANSPORTS PAR VOIE TERRESTRE','AUTRES AFFS IMMOBILIERES'],'PARTICULIERS NON SALARIES',regex=True)"
   ]
  },
  {
   "cell_type": "code",
   "execution_count": null,
   "metadata": {},
   "outputs": [],
   "source": [
    "file_f['SECTEURA']=file_f['SECTEURA'].replace(['PECHE','PROD ENERG HYDRO ET BARR'],'PARTICULIERS NON SALARIES',regex=True)"
   ]
  },
  {
   "cell_type": "code",
   "execution_count": null,
   "metadata": {},
   "outputs": [],
   "source": [
    "file_f['SECTEURA']=file_f['SECTEURA'].replace(['DISTR COURANT ELECTRIQUE','AUTRES PARTICULIERS NON SALARIES'],'PARTICULIERS NON SALARIES',regex=True)"
   ]
  },
  {
   "cell_type": "code",
   "execution_count": null,
   "metadata": {},
   "outputs": [],
   "source": [
    "file_f['SECTEURA']=file_f['SECTEURA'].replace(['RESTAUR ET DEBITS BOISS'],'PARTICULIERS NON SALARIES',regex=True)"
   ]
  },
  {
   "cell_type": "code",
   "execution_count": null,
   "metadata": {},
   "outputs": [],
   "source": [
    "file_f['SECTEURA']=file_f['SECTEURA'].replace(['SERVICES DOMESTIQUES'],'PARTICULIERS NON SALARIES',regex=True)"
   ]
  },
  {
   "cell_type": "code",
   "execution_count": null,
   "metadata": {},
   "outputs": [],
   "source": [
    "file_f['SECTEURA']=file_f['SECTEURA'].replace(['COMMERCE DE DETAIL'],\n",
    "                                              'PARTICULIERS NON SALARIES',regex=True)"
   ]
  },
  {
   "cell_type": "code",
   "execution_count": null,
   "metadata": {},
   "outputs": [],
   "source": [
    "file_f['SECTEURA']=file_f['SECTEURA'].replace(['SERVICES NON SPECIFIES','AUTRES COMMERCES'],\n",
    "                                              'PARTICULIERS NON SALARIES',regex=True)"
   ]
  },
  {
   "cell_type": "code",
   "execution_count": null,
   "metadata": {},
   "outputs": [],
   "source": [
    "file_f['SECTEURA']=file_f['SECTEURA'].replace([\"COMM GENE D'IMPORT EXPORT\"],\n",
    "                                              'PARTICULIERS NON SALARIES',regex=True)"
   ]
  },
  {
   "cell_type": "code",
   "execution_count": null,
   "metadata": {},
   "outputs": [],
   "source": [
    "file_f['SECTEURA']=file_f['SECTEURA'].replace([\"PARTICULIERS NON-SALARIES\"],\n",
    "                                              'PARTICULIERS NON SALARIES',regex=True)"
   ]
  },
  {
   "cell_type": "code",
   "execution_count": null,
   "metadata": {},
   "outputs": [],
   "source": [
    "file_f=file_f.drop(['Profession'],axis=1)"
   ]
  },
  {
   "cell_type": "markdown",
   "metadata": {},
   "source": [
    "# 1.Préparation des données: valeurs manquantes"
   ]
  },
  {
   "cell_type": "code",
   "execution_count": null,
   "metadata": {},
   "outputs": [],
   "source": [
    "print(file_f.isnull().sum())"
   ]
  },
  {
   "cell_type": "code",
   "execution_count": null,
   "metadata": {},
   "outputs": [],
   "source": [
    "# la plupart des valeurs Nan dans la colonne revenus sont aussi manquantes dans la colonne profession\n",
    "#remplasse les valeurs Nan par \"sans revenus fixe\"\n",
    "file_f['Revenus']=file_f['Revenus'].replace(np.nan, 'Nondeclare')"
   ]
  },
  {
   "cell_type": "code",
   "execution_count": null,
   "metadata": {},
   "outputs": [],
   "source": [
    "#les rows avec NaN dans la colonne SECTEURA vont être supprimés\n",
    "file_f=file_f.dropna(subset=['SECTEURA'])"
   ]
  },
  {
   "cell_type": "code",
   "execution_count": null,
   "metadata": {},
   "outputs": [],
   "source": [
    "file_f['age'] = file_f['age'].fillna((file_f['age'].median()))"
   ]
  },
  {
   "cell_type": "code",
   "execution_count": null,
   "metadata": {},
   "outputs": [],
   "source": [
    "#Remplir les valeurs manquantes par la mediane\n",
    "file_f['NbEcheancePretInit']=file_f['NbEcheancePretInit'].fillna((file_f['NbEcheancePretInit'].median()))"
   ]
  },
  {
   "cell_type": "code",
   "execution_count": null,
   "metadata": {},
   "outputs": [],
   "source": [
    "file_f.fillna(method='ffill', inplace = True)"
   ]
  },
  {
   "cell_type": "code",
   "execution_count": null,
   "metadata": {},
   "outputs": [],
   "source": [
    "f=file_f[['Compte','SECTEURA']]"
   ]
  },
  {
   "cell_type": "code",
   "execution_count": null,
   "metadata": {
    "scrolled": true
   },
   "outputs": [],
   "source": [
    "#print(file_f.loc[(file_f['SituationMatrimoniale']!='C')&(file_f['SituationMatrimoniale']!='M')])"
   ]
  },
  {
   "cell_type": "code",
   "execution_count": null,
   "metadata": {},
   "outputs": [],
   "source": [
    "file_f['MtPretInit']=file_f['MtPretInit'].replace(',','.', regex=True)"
   ]
  },
  {
   "cell_type": "code",
   "execution_count": null,
   "metadata": {},
   "outputs": [],
   "source": [
    "file_f['age']=file_f['age'].astype('int')"
   ]
  },
  {
   "cell_type": "code",
   "execution_count": null,
   "metadata": {},
   "outputs": [],
   "source": [
    "file_f['NbEcheancePretInit']=file_f['NbEcheancePretInit'].apply(pd.to_numeric)"
   ]
  },
  {
   "cell_type": "code",
   "execution_count": null,
   "metadata": {},
   "outputs": [],
   "source": [
    "file_f['MtPretInit']=file_f['MtPretInit'].apply(pd.to_numeric)"
   ]
  },
  {
   "cell_type": "code",
   "execution_count": null,
   "metadata": {},
   "outputs": [],
   "source": [
    "file_f['MtPretInit']=file_f['MtPretInit'].astype(int)"
   ]
  },
  {
   "cell_type": "code",
   "execution_count": null,
   "metadata": {},
   "outputs": [],
   "source": [
    "file_f=file_f.drop(['DateDebPret','NbImpayesActuel'],axis=1)"
   ]
  },
  {
   "cell_type": "code",
   "execution_count": null,
   "metadata": {},
   "outputs": [],
   "source": [
    "file_f['NbEcheancePretInit']=file_f['NbEcheancePretInit'].astype(int)"
   ]
  },
  {
   "cell_type": "code",
   "execution_count": null,
   "metadata": {},
   "outputs": [],
   "source": [
    "file_f[\"Nationalite\"].replace([\"CI\", \"BJ\",'ML','BF','FR','GN','NE','CG','CF','GA','CM ','MA','MR','GW','TD','RW','SD','CD', 'GM',\n",
    "                               \n",
    "       'XX','ES','BI','NG','IN','AE','EG','TG','CM'], \"Other\", inplace=True)"
   ]
  },
  {
   "cell_type": "code",
   "execution_count": null,
   "metadata": {},
   "outputs": [],
   "source": [
    "file_f['Nationalite'].value_counts()"
   ]
  },
  {
   "cell_type": "markdown",
   "metadata": {},
   "source": [
    "Nettoyage de la variable Revenus"
   ]
  },
  {
   "cell_type": "code",
   "execution_count": null,
   "metadata": {},
   "outputs": [],
   "source": [
    "file_f['Revenus'].value_counts()"
   ]
  },
  {
   "cell_type": "code",
   "execution_count": null,
   "metadata": {},
   "outputs": [],
   "source": [
    "file_f['Revenus']=file_f['Revenus'].replace(['de 35,000 a 50,000'],'A1',regex=True)"
   ]
  },
  {
   "cell_type": "code",
   "execution_count": null,
   "metadata": {},
   "outputs": [],
   "source": [
    "file_f['Revenus']=file_f['Revenus'].replace(['de 50,000 a 100,000'],'A1',regex=True)"
   ]
  },
  {
   "cell_type": "code",
   "execution_count": null,
   "metadata": {},
   "outputs": [],
   "source": [
    "file_f['Revenus']=file_f['Revenus'].replace(['de 100,000 a 200,000'],'A2',regex=True)"
   ]
  },
  {
   "cell_type": "code",
   "execution_count": null,
   "metadata": {},
   "outputs": [],
   "source": [
    "file_f['Revenus']=file_f['Revenus'].replace(['150000'],'A2',regex=True)"
   ]
  },
  {
   "cell_type": "code",
   "execution_count": null,
   "metadata": {},
   "outputs": [],
   "source": [
    "file_f['Revenus']=file_f['Revenus'].replace(['200000'],'A2',regex=True)"
   ]
  },
  {
   "cell_type": "code",
   "execution_count": null,
   "metadata": {},
   "outputs": [],
   "source": [
    "file_f['Revenus']=file_f['Revenus'].replace(['de 200,000 a 350,000'],'A3',regex=True)"
   ]
  },
  {
   "cell_type": "code",
   "execution_count": null,
   "metadata": {},
   "outputs": [],
   "source": [
    "file_f['Revenus']=file_f['Revenus'].replace(['349000'],'A3',regex=True)"
   ]
  },
  {
   "cell_type": "code",
   "execution_count": null,
   "metadata": {},
   "outputs": [],
   "source": [
    "file_f['Revenus']=file_f['Revenus'].replace(['250000'],'A3',regex=True)"
   ]
  },
  {
   "cell_type": "code",
   "execution_count": null,
   "metadata": {},
   "outputs": [],
   "source": [
    "file_f['Revenus']=file_f['Revenus'].replace(['de 350,000 a 500,000'],'A4',regex=True)"
   ]
  },
  {
   "cell_type": "code",
   "execution_count": null,
   "metadata": {},
   "outputs": [],
   "source": [
    "file_f['Revenus']=file_f['Revenus'].replace(['500000'],'A3',regex=True)"
   ]
  },
  {
   "cell_type": "code",
   "execution_count": null,
   "metadata": {},
   "outputs": [],
   "source": [
    "file_f['Revenus']=file_f['Revenus'].replace(['SANS REVENU FIXE'],'A0',regex=True)"
   ]
  },
  {
   "cell_type": "code",
   "execution_count": null,
   "metadata": {},
   "outputs": [],
   "source": [
    "file_f['Revenus']=file_f['Revenus'].replace(['plus de 500,000'],'A5',regex=True)"
   ]
  },
  {
   "cell_type": "code",
   "execution_count": null,
   "metadata": {},
   "outputs": [],
   "source": [
    "file_f['MtPretInit'].value_counts()"
   ]
  },
  {
   "cell_type": "code",
   "execution_count": null,
   "metadata": {},
   "outputs": [],
   "source": [
    " pd . qcut ( file_f[ 'MtPretInit' ],  q = 5 ) "
   ]
  },
  {
   "cell_type": "code",
   "execution_count": null,
   "metadata": {},
   "outputs": [],
   "source": [
    "file_f['SituationMatrimoniale'].value_counts()"
   ]
  },
  {
   "cell_type": "code",
   "execution_count": null,
   "metadata": {},
   "outputs": [],
   "source": [
    "file_f['SituationMatrimoniale']=file_f['SituationMatrimoniale'].replace('N','M',regex=True)"
   ]
  },
  {
   "cell_type": "code",
   "execution_count": null,
   "metadata": {},
   "outputs": [],
   "source": [
    "file_f['SituationMatrimoniale']=file_f['SituationMatrimoniale'].replace('V','D',regex=True)"
   ]
  },
  {
   "cell_type": "code",
   "execution_count": null,
   "metadata": {},
   "outputs": [],
   "source": [
    "file_f['NamePret'].value_counts()"
   ]
  },
  {
   "cell_type": "markdown",
   "metadata": {},
   "source": [
    "# 2. Exploratory Data Analysis"
   ]
  },
  {
   "cell_type": "raw",
   "metadata": {},
   "source": [
    "Comme pour tout projet impliquant des données, nous avons commencé par analyser les données afin d'identifier les caractéristiques initiales qui pourraient être utiles par la suite.\n",
    "\n",
    "Nous avons d'abord examiné la répartition entre les clients en défaut de paiement et les autres pour constater que les clients sans défaut de paiement étaient largement plus nombreux."
   ]
  },
  {
   "cell_type": "code",
   "execution_count": null,
   "metadata": {},
   "outputs": [],
   "source": [
    "f= pd.read_table(\"C:/Users/hp/pfedossier/fichier\",sep='|')"
   ]
  },
  {
   "cell_type": "code",
   "execution_count": 14,
   "metadata": {},
   "outputs": [
    {
     "data": {
      "text/plain": [
       "0    17957\n",
       "1      695\n",
       "Name: Statut, dtype: int64"
      ]
     },
     "execution_count": 14,
     "metadata": {},
     "output_type": "execute_result"
    }
   ],
   "source": [
    "f['Statut'].value_counts()"
   ]
  },
  {
   "cell_type": "code",
   "execution_count": 15,
   "metadata": {},
   "outputs": [
    {
     "data": {
      "text/html": [
       "<div>\n",
       "<style scoped>\n",
       "    .dataframe tbody tr th:only-of-type {\n",
       "        vertical-align: middle;\n",
       "    }\n",
       "\n",
       "    .dataframe tbody tr th {\n",
       "        vertical-align: top;\n",
       "    }\n",
       "\n",
       "    .dataframe thead th {\n",
       "        text-align: right;\n",
       "    }\n",
       "</style>\n",
       "<table border=\"1\" class=\"dataframe\">\n",
       "  <thead>\n",
       "    <tr style=\"text-align: right;\">\n",
       "      <th></th>\n",
       "      <th>Unnamed: 0</th>\n",
       "      <th>Unnamed: 0.1</th>\n",
       "      <th>Client</th>\n",
       "      <th>NbJoursCR</th>\n",
       "      <th>NbJoursDB</th>\n",
       "      <th>SoldeCrMoyDev</th>\n",
       "      <th>SoldeDbMoyDev</th>\n",
       "      <th>nbp</th>\n",
       "      <th>Statut</th>\n",
       "      <th>SECTEURA</th>\n",
       "      <th>Sexe</th>\n",
       "      <th>SituationMatrimoniale</th>\n",
       "      <th>Revenus</th>\n",
       "      <th>age</th>\n",
       "    </tr>\n",
       "  </thead>\n",
       "  <tbody>\n",
       "    <tr>\n",
       "      <td>0</td>\n",
       "      <td>18</td>\n",
       "      <td>4570</td>\n",
       "      <td>BABCDC</td>\n",
       "      <td>58</td>\n",
       "      <td>31</td>\n",
       "      <td>99483,00</td>\n",
       "      <td>-96416,42</td>\n",
       "      <td>21</td>\n",
       "      <td>0</td>\n",
       "      <td>PARTICULIERS NON SALARIES</td>\n",
       "      <td>M</td>\n",
       "      <td>C</td>\n",
       "      <td>SANS REVENU FIXE</td>\n",
       "      <td>42.0</td>\n",
       "    </tr>\n",
       "    <tr>\n",
       "      <td>1</td>\n",
       "      <td>23</td>\n",
       "      <td>5818</td>\n",
       "      <td>BABCEF</td>\n",
       "      <td>48</td>\n",
       "      <td>30</td>\n",
       "      <td>98322,58</td>\n",
       "      <td>-8203,16</td>\n",
       "      <td>15</td>\n",
       "      <td>0</td>\n",
       "      <td>PARTICULIERS SALARIES</td>\n",
       "      <td>F</td>\n",
       "      <td>C</td>\n",
       "      <td>de 350,000 a 500,000</td>\n",
       "      <td>46.0</td>\n",
       "    </tr>\n",
       "    <tr>\n",
       "      <td>2</td>\n",
       "      <td>42</td>\n",
       "      <td>11370</td>\n",
       "      <td>BABDFG</td>\n",
       "      <td>31</td>\n",
       "      <td>0</td>\n",
       "      <td>,00</td>\n",
       "      <td>,00</td>\n",
       "      <td>3</td>\n",
       "      <td>0</td>\n",
       "      <td>PARTICULIERS NON SALARIES</td>\n",
       "      <td>M</td>\n",
       "      <td>M</td>\n",
       "      <td>SANS REVENU FIXE</td>\n",
       "      <td>55.0</td>\n",
       "    </tr>\n",
       "    <tr>\n",
       "      <td>3</td>\n",
       "      <td>76</td>\n",
       "      <td>16445</td>\n",
       "      <td>BAIDFI</td>\n",
       "      <td>52</td>\n",
       "      <td>31</td>\n",
       "      <td>98125,13</td>\n",
       "      <td>-985995,80</td>\n",
       "      <td>41</td>\n",
       "      <td>0</td>\n",
       "      <td>PARTICULIERS NON SALARIES</td>\n",
       "      <td>F</td>\n",
       "      <td>C</td>\n",
       "      <td>plus de 500,000</td>\n",
       "      <td>32.0</td>\n",
       "    </tr>\n",
       "    <tr>\n",
       "      <td>4</td>\n",
       "      <td>83</td>\n",
       "      <td>18512</td>\n",
       "      <td>BAIEAB</td>\n",
       "      <td>54</td>\n",
       "      <td>31</td>\n",
       "      <td>9288,19</td>\n",
       "      <td>-9814,30</td>\n",
       "      <td>15</td>\n",
       "      <td>0</td>\n",
       "      <td>PARTICULIERS NON SALARIES</td>\n",
       "      <td>F</td>\n",
       "      <td>C</td>\n",
       "      <td>SANS REVENU FIXE</td>\n",
       "      <td>39.0</td>\n",
       "    </tr>\n",
       "    <tr>\n",
       "      <td>...</td>\n",
       "      <td>...</td>\n",
       "      <td>...</td>\n",
       "      <td>...</td>\n",
       "      <td>...</td>\n",
       "      <td>...</td>\n",
       "      <td>...</td>\n",
       "      <td>...</td>\n",
       "      <td>...</td>\n",
       "      <td>...</td>\n",
       "      <td>...</td>\n",
       "      <td>...</td>\n",
       "      <td>...</td>\n",
       "      <td>...</td>\n",
       "      <td>...</td>\n",
       "    </tr>\n",
       "    <tr>\n",
       "      <td>18647</td>\n",
       "      <td>35693</td>\n",
       "      <td>4819849</td>\n",
       "      <td>JHEBJH</td>\n",
       "      <td>31</td>\n",
       "      <td>23</td>\n",
       "      <td>9696,45</td>\n",
       "      <td>-28493,43</td>\n",
       "      <td>3</td>\n",
       "      <td>0</td>\n",
       "      <td>PARTICULIERS NON SALARIES</td>\n",
       "      <td>M</td>\n",
       "      <td>M</td>\n",
       "      <td>de 35,000 a 50,000</td>\n",
       "      <td>27.0</td>\n",
       "    </tr>\n",
       "    <tr>\n",
       "      <td>18648</td>\n",
       "      <td>35694</td>\n",
       "      <td>4819863</td>\n",
       "      <td>JHEHDG</td>\n",
       "      <td>31</td>\n",
       "      <td>27</td>\n",
       "      <td>9353,13</td>\n",
       "      <td>-603,84</td>\n",
       "      <td>3</td>\n",
       "      <td>0</td>\n",
       "      <td>PARTICULIERS NON SALARIES</td>\n",
       "      <td>M</td>\n",
       "      <td>M</td>\n",
       "      <td>de 50,000 a 100,000</td>\n",
       "      <td>34.0</td>\n",
       "    </tr>\n",
       "    <tr>\n",
       "      <td>18649</td>\n",
       "      <td>35695</td>\n",
       "      <td>4819877</td>\n",
       "      <td>EDFEHB</td>\n",
       "      <td>48</td>\n",
       "      <td>13</td>\n",
       "      <td>9031,16</td>\n",
       "      <td>-92,32</td>\n",
       "      <td>2</td>\n",
       "      <td>0</td>\n",
       "      <td>PARTICULIERS NON SALARIES</td>\n",
       "      <td>M</td>\n",
       "      <td>M</td>\n",
       "      <td>de 50,000 a 100,000</td>\n",
       "      <td>59.0</td>\n",
       "    </tr>\n",
       "    <tr>\n",
       "      <td>18650</td>\n",
       "      <td>35699</td>\n",
       "      <td>4819991</td>\n",
       "      <td>EHECED</td>\n",
       "      <td>37</td>\n",
       "      <td>7</td>\n",
       "      <td>81,60</td>\n",
       "      <td>-545,71</td>\n",
       "      <td>3</td>\n",
       "      <td>0</td>\n",
       "      <td>PARTICULIERS NON SALARIES</td>\n",
       "      <td>M</td>\n",
       "      <td>C</td>\n",
       "      <td>de 100,000 a 200,000</td>\n",
       "      <td>32.0</td>\n",
       "    </tr>\n",
       "    <tr>\n",
       "      <td>18651</td>\n",
       "      <td>35700</td>\n",
       "      <td>4820005</td>\n",
       "      <td>EHEBDD</td>\n",
       "      <td>31</td>\n",
       "      <td>1</td>\n",
       "      <td>8700,00</td>\n",
       "      <td>-90,06</td>\n",
       "      <td>2</td>\n",
       "      <td>0</td>\n",
       "      <td>PARTICULIERS NON SALARIES</td>\n",
       "      <td>M</td>\n",
       "      <td>C</td>\n",
       "      <td>de 100,000 a 200,000</td>\n",
       "      <td>32.0</td>\n",
       "    </tr>\n",
       "  </tbody>\n",
       "</table>\n",
       "<p>18652 rows × 14 columns</p>\n",
       "</div>"
      ],
      "text/plain": [
       "       Unnamed: 0  Unnamed: 0.1  Client  NbJoursCR  NbJoursDB SoldeCrMoyDev  \\\n",
       "0              18          4570  BABCDC         58         31      99483,00   \n",
       "1              23          5818  BABCEF         48         30      98322,58   \n",
       "2              42         11370  BABDFG         31          0           ,00   \n",
       "3              76         16445  BAIDFI         52         31      98125,13   \n",
       "4              83         18512  BAIEAB         54         31       9288,19   \n",
       "...           ...           ...     ...        ...        ...           ...   \n",
       "18647       35693       4819849  JHEBJH         31         23       9696,45   \n",
       "18648       35694       4819863  JHEHDG         31         27       9353,13   \n",
       "18649       35695       4819877  EDFEHB         48         13       9031,16   \n",
       "18650       35699       4819991  EHECED         37          7         81,60   \n",
       "18651       35700       4820005  EHEBDD         31          1       8700,00   \n",
       "\n",
       "      SoldeDbMoyDev  nbp  Statut                   SECTEURA Sexe  \\\n",
       "0         -96416,42   21       0  PARTICULIERS NON SALARIES    M   \n",
       "1          -8203,16   15       0      PARTICULIERS SALARIES    F   \n",
       "2               ,00    3       0  PARTICULIERS NON SALARIES    M   \n",
       "3        -985995,80   41       0  PARTICULIERS NON SALARIES    F   \n",
       "4          -9814,30   15       0  PARTICULIERS NON SALARIES    F   \n",
       "...             ...  ...     ...                        ...  ...   \n",
       "18647     -28493,43    3       0  PARTICULIERS NON SALARIES    M   \n",
       "18648       -603,84    3       0  PARTICULIERS NON SALARIES    M   \n",
       "18649        -92,32    2       0  PARTICULIERS NON SALARIES    M   \n",
       "18650       -545,71    3       0  PARTICULIERS NON SALARIES    M   \n",
       "18651        -90,06    2       0  PARTICULIERS NON SALARIES    M   \n",
       "\n",
       "      SituationMatrimoniale               Revenus   age  \n",
       "0                         C      SANS REVENU FIXE  42.0  \n",
       "1                         C  de 350,000 a 500,000  46.0  \n",
       "2                         M      SANS REVENU FIXE  55.0  \n",
       "3                         C       plus de 500,000  32.0  \n",
       "4                         C      SANS REVENU FIXE  39.0  \n",
       "...                     ...                   ...   ...  \n",
       "18647                     M    de 35,000 a 50,000  27.0  \n",
       "18648                     M   de 50,000 a 100,000  34.0  \n",
       "18649                     M   de 50,000 a 100,000  59.0  \n",
       "18650                     C  de 100,000 a 200,000  32.0  \n",
       "18651                     C  de 100,000 a 200,000  32.0  \n",
       "\n",
       "[18652 rows x 14 columns]"
      ]
     },
     "execution_count": 15,
     "metadata": {},
     "output_type": "execute_result"
    }
   ],
   "source": []
  },
  {
   "cell_type": "code",
   "execution_count": null,
   "metadata": {},
   "outputs": [],
   "source": [
    "file['Revenus'].value_counts()"
   ]
  },
  {
   "cell_type": "code",
   "execution_count": null,
   "metadata": {},
   "outputs": [],
   "source": [
    "labels = ['non défaut','défaut']\n",
    "classes = pd.value_counts(file_f['Statut'], sort = True)\n",
    "classes.plot(kind = 'bar', rot=0)\n",
    "plt.title(\"Transaction class distribution\")\n",
    "plt.xticks(range(2), labels)\n",
    "plt.xlabel(\"prêt\")\n",
    "plt.ylabel(\"Frequency\")"
   ]
  },
  {
   "cell_type": "code",
   "execution_count": null,
   "metadata": {},
   "outputs": [],
   "source": [
    "plt.scatter(file_f['Revenus'], file_f['age'],c='blue', alpha=0.5)\n",
    "plt.xlabel(\"Revenus du personne\")\n",
    "plt.ylabel(\"age\")\n",
    "plt.show()"
   ]
  },
  {
   "cell_type": "code",
   "execution_count": null,
   "metadata": {},
   "outputs": [],
   "source": [
    "file_f.describe()"
   ]
  },
  {
   "cell_type": "markdown",
   "metadata": {},
   "source": [
    "# Détection des outliers"
   ]
  },
  {
   "cell_type": "code",
   "execution_count": 24,
   "metadata": {},
   "outputs": [
    {
     "data": {
      "text/html": [
       "<div>\n",
       "<style scoped>\n",
       "    .dataframe tbody tr th:only-of-type {\n",
       "        vertical-align: middle;\n",
       "    }\n",
       "\n",
       "    .dataframe tbody tr th {\n",
       "        vertical-align: top;\n",
       "    }\n",
       "\n",
       "    .dataframe thead th {\n",
       "        text-align: right;\n",
       "    }\n",
       "</style>\n",
       "<table border=\"1\" class=\"dataframe\">\n",
       "  <thead>\n",
       "    <tr style=\"text-align: right;\">\n",
       "      <th>Statut</th>\n",
       "      <th>0</th>\n",
       "      <th>1</th>\n",
       "    </tr>\n",
       "    <tr>\n",
       "      <th>Revenus</th>\n",
       "      <th></th>\n",
       "      <th></th>\n",
       "    </tr>\n",
       "  </thead>\n",
       "  <tbody>\n",
       "    <tr>\n",
       "      <td>0</td>\n",
       "      <td>841</td>\n",
       "      <td>104</td>\n",
       "    </tr>\n",
       "    <tr>\n",
       "      <td>SANS REVENU FIXE</td>\n",
       "      <td>2030</td>\n",
       "      <td>143</td>\n",
       "    </tr>\n",
       "    <tr>\n",
       "      <td>de 100,000 a 200,000</td>\n",
       "      <td>6529</td>\n",
       "      <td>192</td>\n",
       "    </tr>\n",
       "    <tr>\n",
       "      <td>de 35,000 a 50,000</td>\n",
       "      <td>1142</td>\n",
       "      <td>70</td>\n",
       "    </tr>\n",
       "    <tr>\n",
       "      <td>de 350,000 a 500,000</td>\n",
       "      <td>1321</td>\n",
       "      <td>33</td>\n",
       "    </tr>\n",
       "    <tr>\n",
       "      <td>de 50,000 a 100,000</td>\n",
       "      <td>4335</td>\n",
       "      <td>113</td>\n",
       "    </tr>\n",
       "    <tr>\n",
       "      <td>plus de 500,000</td>\n",
       "      <td>1759</td>\n",
       "      <td>40</td>\n",
       "    </tr>\n",
       "  </tbody>\n",
       "</table>\n",
       "</div>"
      ],
      "text/plain": [
       "Statut                   0    1\n",
       "Revenus                        \n",
       "0                      841  104\n",
       "SANS REVENU FIXE      2030  143\n",
       "de 100,000 a 200,000  6529  192\n",
       "de 35,000 a 50,000    1142   70\n",
       "de 350,000 a 500,000  1321   33\n",
       "de 50,000 a 100,000   4335  113\n",
       "plus de 500,000       1759   40"
      ]
     },
     "execution_count": 24,
     "metadata": {},
     "output_type": "execute_result"
    }
   ],
   "source": [
    "pd.crosstab(file['Revenus'], file['Statut'])"
   ]
  },
  {
   "cell_type": "code",
   "execution_count": null,
   "metadata": {},
   "outputs": [],
   "source": [
    "max(file_f['age'])"
   ]
  },
  {
   "cell_type": "code",
   "execution_count": null,
   "metadata": {},
   "outputs": [],
   "source": [
    "plt.scatter(file['Revenus'],file_f['age'], c='blue', alpha=0.5)\n",
    "plt.xlabel('Revenus')\n",
    "plt.ylabel('age')\n",
    "plt.show()"
   ]
  },
  {
   "cell_type": "code",
   "execution_count": 34,
   "metadata": {},
   "outputs": [
    {
     "data": {
      "text/plain": [
       "PARTICULIERS NON SALARIES    11471\n",
       "PARTICULIERS SALARIES         6993\n",
       "ORGANISATIONS INTERNATS         19\n",
       "SECTEURS NON IDENTIF             1\n",
       "Name: SECTEURA, dtype: int64"
      ]
     },
     "execution_count": 34,
     "metadata": {},
     "output_type": "execute_result"
    }
   ],
   "source": [
    "file['SECTEURA'].value_counts()"
   ]
  },
  {
   "cell_type": "code",
   "execution_count": 31,
   "metadata": {},
   "outputs": [
    {
     "name": "stdout",
     "output_type": "stream",
     "text": [
      "          max                                                           \\\n",
      "Revenus     0 SANS REVENU FIXE de 100,000 a 200,000 de 35,000 a 50,000   \n",
      "Statut                                                                   \n",
      "0        70.0             76.0                 83.0               72.0   \n",
      "1        42.0             73.0                 69.0               62.0   \n",
      "\n",
      "                                                                   min  \\\n",
      "Revenus de 350,000 a 500,000 de 50,000 a 100,000 plus de 500,000     0   \n",
      "Statut                                                                   \n",
      "0                       91.0                82.0            80.0  21.0   \n",
      "1                       58.0                74.0            61.0  24.0   \n",
      "\n",
      "                                                                  \\\n",
      "Revenus SANS REVENU FIXE de 100,000 a 200,000 de 35,000 a 50,000   \n",
      "Statut                                                             \n",
      "0                   21.0                 20.0               21.0   \n",
      "1                   24.0                 23.0               24.0   \n",
      "\n",
      "                                                                  \n",
      "Revenus de 350,000 a 500,000 de 50,000 a 100,000 plus de 500,000  \n",
      "Statut                                                            \n",
      "0                       23.0                21.0            25.0  \n",
      "1                       25.0                23.0            29.0  \n"
     ]
    }
   ],
   "source": [
    "print(pd.crosstab(file['Statut'],file['Revenus'],values=file['age']\n",
    "                  ,aggfunc=['max','min']))"
   ]
  },
  {
   "cell_type": "markdown",
   "metadata": {},
   "source": [
    "On remarque qu'il existe des outliers "
   ]
  },
  {
   "cell_type": "code",
   "execution_count": 28,
   "metadata": {},
   "outputs": [],
   "source": [
    "#suppression des outliers\n",
    "indices = file[file['age'] <18].index\n",
    "file.drop(indices, inplace=True)"
   ]
  },
  {
   "cell_type": "code",
   "execution_count": null,
   "metadata": {},
   "outputs": [],
   "source": [
    "file_f.to_pickle('fichier_final')"
   ]
  },
  {
   "cell_type": "code",
   "execution_count": null,
   "metadata": {},
   "outputs": [],
   "source": [
    "file_f['Revenus'].value_counts()"
   ]
  },
  {
   "cell_type": "code",
   "execution_count": null,
   "metadata": {},
   "outputs": [],
   "source": [
    "#aprés suppression des outliers\n",
    "print(pd.crosstab(file_f['Statut'],file_f['Revenus'],values=file_f['age']\n",
    "                  ,aggfunc=['max','min']))"
   ]
  },
  {
   "cell_type": "code",
   "execution_count": null,
   "metadata": {},
   "outputs": [],
   "source": [
    "#Aprés suppression des outliers\n",
    "plt.scatter(file_f['Revenus'],file_f['age'], c='blue', alpha=0.5)\n",
    "plt.xlabel('Revenus')\n",
    "plt.ylabel('age')\n",
    "plt.show()"
   ]
  },
  {
   "cell_type": "code",
   "execution_count": null,
   "metadata": {},
   "outputs": [],
   "source": [
    "plt.figure()\n",
    "sns.catplot(x='SituationMatrimoniale',data=file_f, col='Statut', kind=\"count\").set_axis_labels(\"Statut Civil\",\"count\")\n",
    "plt.show()"
   ]
  },
  {
   "cell_type": "code",
   "execution_count": null,
   "metadata": {},
   "outputs": [],
   "source": [
    "file_f[\"NamePret\"].value_counts(normalize=True).plot(kind='pie')"
   ]
  },
  {
   "cell_type": "code",
   "execution_count": null,
   "metadata": {},
   "outputs": [],
   "source": [
    "data=file_f[['age','NbEcheancePretInit','Revenus','MtPretInit']]\n",
    "data['Age_Bins'] = pd.qcut(data['age'], 5, \n",
    "                           labels=['Age_lt_31', 'Age_31_to_35', 'Age_35_to_40', 'Age_40_to_46', 'Age_gt_46'])"
   ]
  },
  {
   "cell_type": "code",
   "execution_count": null,
   "metadata": {},
   "outputs": [],
   "source": [
    "plt.figure(figsize=(10,6))\n",
    "sns.barplot(x=data['Age_Bins'], y=data['MtPretInit'], palette=\"Reds_r\")\n",
    "plt.xlabel('\\nage' , fontsize=15, color='#c0392b')\n",
    "plt.ylabel(\"Montant de prêt initial\\n\", fontsize=15, color='#c0392b')\n",
    "plt.title(\"Distribution du type du prêt par âge\\n\", fontsize=18, color='#e74c3c')\n",
    "plt.xticks(rotation= 45)\n",
    "plt.tight_layout()"
   ]
  },
  {
   "cell_type": "code",
   "execution_count": null,
   "metadata": {},
   "outputs": [],
   "source": []
  },
  {
   "cell_type": "markdown",
   "metadata": {},
   "source": [
    "# Etude de la Multicolinéarité "
   ]
  },
  {
   "cell_type": "raw",
   "metadata": {},
   "source": [
    "Comme nous allons utiliser des méthodes linéaires, nous devons éviter la multicollinéarité entre les caractéristiques. Pour le vérifier, faisons une matrice de corrélation."
   ]
  },
  {
   "cell_type": "code",
   "execution_count": null,
   "metadata": {},
   "outputs": [],
   "source": [
    "# Set Up Inputs and Target\n",
    "numerical = ['MtPretInit', 'NbEcheancePretInit', 'age','NbPret']\n",
    "categorical = ['NamePret','Sexe',  'SituationMatrimoniale', 'Revenus', 'SECTEURA', 'Nationalite']\n",
    "target = 'target'"
   ]
  },
  {
   "cell_type": "code",
   "execution_count": null,
   "metadata": {},
   "outputs": [],
   "source": [
    "print(numerical)"
   ]
  },
  {
   "cell_type": "code",
   "execution_count": null,
   "metadata": {},
   "outputs": [],
   "source": [
    "print(categorical)"
   ]
  },
  {
   "cell_type": "code",
   "execution_count": null,
   "metadata": {},
   "outputs": [],
   "source": [
    "target='Statut'"
   ]
  },
  {
   "cell_type": "code",
   "execution_count": null,
   "metadata": {
    "scrolled": true
   },
   "outputs": [],
   "source": [
    "import seaborn as sns\n",
    "plt.figure(figsize=(10,5))\n",
    "sns.set(font_scale=1)\n",
    "sns.heatmap(file_f[numerical].corr(), cmap=\"Blues\", annot=True, fmt=\".2f\")\n",
    "plt.show()"
   ]
  },
  {
   "cell_type": "markdown",
   "metadata": {},
   "source": [
    "Comme le montre la matrice de corrélation, aucune des caractéristiques ne présente une forte corrélation (coeff>0,7). \n",
    "Par conséquent, nous n'avons pas besoin d'exclure des caractéristiques de l'ensemble de données."
   ]
  },
  {
   "cell_type": "markdown",
   "metadata": {},
   "source": [
    "\n",
    "# Set up Weight of Evidence Transform"
   ]
  },
  {
   "cell_type": "code",
   "execution_count": null,
   "metadata": {},
   "outputs": [],
   "source": [
    "file=pd.read_pickle(\"C:/Users/hp/pfedossier/fichier_final\")"
   ]
  },
  {
   "cell_type": "code",
   "execution_count": null,
   "metadata": {},
   "outputs": [],
   "source": [
    "file_f['age'].describe()"
   ]
  },
  {
   "cell_type": "markdown",
   "metadata": {},
   "source": [
    "we Keep in mind the values for the 25%, 50% and 75% percentiles as we look at using qcut directly."
   ]
  },
  {
   "cell_type": "code",
   "execution_count": null,
   "metadata": {},
   "outputs": [],
   "source": [
    "file['Age_Bins'] = pd.qcut(file['age'], 5, \n",
    "                           labels=['Age_lt_31', 'Age_31_to_35', 'Age_35_to_40', 'Age_40_to_46', 'Age_gt_46'])"
   ]
  },
  {
   "cell_type": "code",
   "execution_count": null,
   "metadata": {},
   "outputs": [],
   "source": [
    " pd . qcut ( file[ 'NbEcheancePretInit' ],  q = 3 ) "
   ]
  },
  {
   "cell_type": "code",
   "execution_count": null,
   "metadata": {},
   "outputs": [],
   "source": [
    "max(file['NbEcheancePretInit'])"
   ]
  },
  {
   "cell_type": "code",
   "execution_count": null,
   "metadata": {},
   "outputs": [],
   "source": [
    "file['NbEchPret_Bins'] = pd.qcut(file['NbEcheancePretInit'], 3, \n",
    "                           labels=['NbEchP_lt_36', 'NbEchP_36_to_60', 'NbEchP_60_to_240'])"
   ]
  },
  {
   "cell_type": "code",
   "execution_count": null,
   "metadata": {},
   "outputs": [],
   "source": [
    "file['MtPretInit_Bins'] = pd.qcut(file['MtPretInit'], 5, \n",
    "                           labels=['MtPr_1t_968000', 'MtPr__968000to_2000000', \n",
    "                                   'MtPr__2000000to_3000000', 'MtPr_3000000_to_46', 'MtPr_5000000_to_2000000000'])"
   ]
  },
  {
   "cell_type": "code",
   "execution_count": null,
   "metadata": {},
   "outputs": [],
   "source": [
    "file.drop ([ 'MtPretInit' , 'age'], axis = 1 , inplace = True )"
   ]
  },
  {
   "cell_type": "code",
   "execution_count": null,
   "metadata": {},
   "outputs": [],
   "source": [
    "file.drop([ 'NbEcheancePretInit'], axis = 1 , inplace = True )"
   ]
  },
  {
   "cell_type": "code",
   "execution_count": null,
   "metadata": {},
   "outputs": [],
   "source": [
    "file_f"
   ]
  },
  {
   "cell_type": "code",
   "execution_count": null,
   "metadata": {},
   "outputs": [],
   "source": [
    "df = pd.get_dummies(file, columns=['NamePret', 'Sexe', \n",
    "                                 'SituationMatrimoniale', 'Revenus', 'SECTEURA', 'Nationalite'])"
   ]
  },
  {
   "cell_type": "code",
   "execution_count": null,
   "metadata": {},
   "outputs": [],
   "source": [
    "def calculate_woe_iv(dataset, feature, target):\n",
    "    lst = []\n",
    "    for i in range(file[feature].nunique()):\n",
    "        val = list(file[feature].unique())[i]\n",
    "        lst.append({\n",
    "            'Value': val,\n",
    "            'All': file[file[feature] == val].count()[feature],\n",
    "            'Good': file[(file[feature] == val) & (file[target] == 0)].count()[feature],\n",
    "            'Bad': file[(file[feature] == val) & (file[target] == 1)].count()[feature]\n",
    "        })\n",
    "        \n",
    "    dset = pd.DataFrame(lst)\n",
    "    dset['Distr_Good'] = dset['Good'] / dset['Good'].sum()\n",
    "    dset['Distr_Bad'] = dset['Bad'] / dset['Bad'].sum()\n",
    "    dset['WoE'] = np.log(dset['Distr_Good'] / dset['Distr_Bad'])\n",
    "    dset = dset.replace({'WoE': {np.inf: 0, -np.inf: 0}})\n",
    "    dset['IV'] = (dset['Distr_Good'] - dset['Distr_Bad']) * dset['WoE']\n",
    "    iv = dset['IV'].sum()\n",
    "    \n",
    "    dset = dset.sort_values(by='WoE')\n",
    "    \n",
    "    return dset, iv"
   ]
  },
  {
   "cell_type": "markdown",
   "metadata": {},
   "source": [
    "Affichage des valeurs IV "
   ]
  },
  {
   "cell_type": "code",
   "execution_count": null,
   "metadata": {},
   "outputs": [],
   "source": [
    "for col in file.columns:\n",
    "    if col == 'Statut': continue\n",
    "    else:\n",
    "        print('WoE and IV for column: {}'.format(col))\n",
    "        df, iv = calculate_woe_iv(file, col, 'Statut')\n",
    "        print(df)\n",
    "        print('IV score: {:.2f}'.format(iv))\n",
    "        print('\\n')"
   ]
  },
  {
   "cell_type": "code",
   "execution_count": null,
   "metadata": {},
   "outputs": [],
   "source": [
    "file_f.info()"
   ]
  }
 ],
 "metadata": {
  "kernelspec": {
   "display_name": "Python 3",
   "language": "python",
   "name": "python3"
  },
  "language_info": {
   "codemirror_mode": {
    "name": "ipython",
    "version": 3
   },
   "file_extension": ".py",
   "mimetype": "text/x-python",
   "name": "python",
   "nbconvert_exporter": "python",
   "pygments_lexer": "ipython3",
   "version": "3.7.4"
  }
 },
 "nbformat": 4,
 "nbformat_minor": 2
}

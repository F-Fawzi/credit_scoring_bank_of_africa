{
 "cells": [
  {
   "cell_type": "code",
   "execution_count": 1,
   "metadata": {
    "scrolled": false
   },
   "outputs": [],
   "source": [
    "import pandas as pd\n",
    "import numpy as np"
   ]
  },
  {
   "cell_type": "code",
   "execution_count": 2,
   "metadata": {
    "scrolled": false
   },
   "outputs": [],
   "source": [
    "from matplotlib import pyplot as plt\n",
    "from sklearn.preprocessing import MinMaxScaler\n",
    "from sklearn.model_selection import train_test_split, GridSearchCV,StratifiedKFold\n",
    "from sklearn.linear_model import Lasso, LogisticRegression, RidgeClassifier\n",
    "from sklearn.metrics import confusion_matrix\n",
    "from sklearn.metrics import roc_auc_score, recall_score, precision_score\n",
    "import seaborn as sns\n",
    "from sklearn.preprocessing import StandardScaler\n",
    "import warnings\n",
    "warnings.filterwarnings('ignore')\n",
    "from sklearn.metrics import roc_curve\n",
    "from sklearn.metrics import precision_recall_curve, auc\n",
    "from sklearn.feature_selection import RFECV\n",
    "from sklearn.tree import DecisionTreeClassifier\n",
    "from sklearn import preprocessing\n",
    "from sklearn.preprocessing import OneHotEncoder\n",
    "from sklearn.neural_network import MLPClassifier\n",
    "from sklearn.metrics import confusion_matrix\n",
    "from sklearn.metrics import classification_report"
   ]
  },
  {
   "cell_type": "code",
   "execution_count": 3,
   "metadata": {
    "scrolled": false
   },
   "outputs": [],
   "source": [
    "file= pd.read_table(\"C:/Users/hp/pfedossier/fichier_aprés_pre_processing\",sep='|')"
   ]
  },
  {
   "cell_type": "code",
   "execution_count": null,
   "metadata": {},
   "outputs": [],
   "source": [
    "file['Statut'].value_counts()"
   ]
  },
  {
   "cell_type": "code",
   "execution_count": 4,
   "metadata": {},
   "outputs": [
    {
     "name": "stdout",
     "output_type": "stream",
     "text": [
      "<class 'pandas.core.frame.DataFrame'>\n",
      "RangeIndex: 18523 entries, 0 to 18522\n",
      "Data columns (total 15 columns):\n",
      "Unnamed: 0               18523 non-null int64\n",
      "Unnamed: 0.1             18523 non-null int64\n",
      "Unnamed: 0.1.1           18523 non-null int64\n",
      "Client                   18523 non-null object\n",
      "NbJoursCR                18523 non-null int64\n",
      "NbJoursDB                18523 non-null int64\n",
      "SoldeCrMoyDev            18523 non-null float64\n",
      "SoldeDbMoyDev            18523 non-null float64\n",
      "nbp                      18523 non-null int64\n",
      "Statut                   18523 non-null int64\n",
      "SECTEURA                 18523 non-null object\n",
      "Sexe                     18523 non-null object\n",
      "SituationMatrimoniale    18523 non-null object\n",
      "Revenus                  18523 non-null object\n",
      "age                      18523 non-null float64\n",
      "dtypes: float64(3), int64(7), object(5)\n",
      "memory usage: 2.1+ MB\n"
     ]
    }
   ],
   "source": [
    "file.info()"
   ]
  },
  {
   "cell_type": "code",
   "execution_count": null,
   "metadata": {},
   "outputs": [],
   "source": [
    "print(file.loc[file['Statut']==1,:])"
   ]
  },
  {
   "cell_type": "code",
   "execution_count": null,
   "metadata": {},
   "outputs": [],
   "source": [
    "file['Statut']=file['Statut'].replace('bon',0)"
   ]
  },
  {
   "cell_type": "code",
   "execution_count": null,
   "metadata": {},
   "outputs": [],
   "source": [
    "file['Statut']=file['Statut'].replace('mauvais',1)"
   ]
  },
  {
   "cell_type": "code",
   "execution_count": null,
   "metadata": {},
   "outputs": [],
   "source": [
    "import csv\n",
    "file.to_csv('fichier_aprés_pre_processing',sep=\"|\")"
   ]
  },
  {
   "cell_type": "code",
   "execution_count": null,
   "metadata": {},
   "outputs": [],
   "source": [
    "file['SituationMatrimoniale']=file['SituationMatrimoniale'].replace('N','M', regex=True)"
   ]
  },
  {
   "cell_type": "code",
   "execution_count": null,
   "metadata": {},
   "outputs": [],
   "source": [
    "file['SituationMatrimoniale']=file['SituationMatrimoniale'].replace('V','C', regex=True)"
   ]
  },
  {
   "cell_type": "code",
   "execution_count": 4,
   "metadata": {},
   "outputs": [
    {
     "name": "stdout",
     "output_type": "stream",
     "text": [
      "['NbJoursCR', 'NbJoursDB', 'SoldeCrMoyDev', 'SoldeDbMoyDev', 'nbp', 'age']\n",
      "['SECTEURA', 'Sexe', 'SituationMatrimoniale', 'Revenus']\n"
     ]
    }
   ],
   "source": [
    "numerical = []\n",
    "for col in file.columns:\n",
    "    if (file[col].dtype == np.int64 or file[col].dtype == np.float64) and not col=='Statut' and not col=='Unnamed: 0'and not col=='Unnamed: 0.1' and not col=='Unnamed: 0.1.1':\n",
    "        numerical.append(col)\n",
    "\n",
    "categorical = []\n",
    "for col in file.columns:\n",
    "    if file[col].dtype == np.object and not col=='Client':\n",
    "        categorical.append(col)\n",
    "\n",
    "print(numerical)\n",
    "print(categorical)"
   ]
  },
  {
   "cell_type": "code",
   "execution_count": 5,
   "metadata": {},
   "outputs": [
    {
     "name": "stdout",
     "output_type": "stream",
     "text": [
      "<class 'pandas.core.frame.DataFrame'>\n",
      "RangeIndex: 18523 entries, 0 to 18522\n",
      "Data columns (total 22 columns):\n",
      "NbJoursCR                             18523 non-null float64\n",
      "NbJoursDB                             18523 non-null float64\n",
      "SoldeCrMoyDev                         18523 non-null float64\n",
      "SoldeDbMoyDev                         18523 non-null float64\n",
      "nbp                                   18523 non-null float64\n",
      "age                                   18523 non-null float64\n",
      "SECTEURA_PARTICULIERS NON SALARIES    18523 non-null uint8\n",
      "SECTEURA_PARTICULIERS SALARIES        18523 non-null uint8\n",
      "SECTEURA_SECTEURS NON IDENTIF         18523 non-null uint8\n",
      "Sexe_F                                18523 non-null uint8\n",
      "Sexe_M                                18523 non-null uint8\n",
      "SituationMatrimoniale_C               18523 non-null uint8\n",
      "SituationMatrimoniale_D               18523 non-null uint8\n",
      "SituationMatrimoniale_M               18523 non-null uint8\n",
      "Revenus_0                             18523 non-null uint8\n",
      "Revenus_SANS REVENU FIXE              18523 non-null uint8\n",
      "Revenus_de 100,000 a 200,000          18523 non-null uint8\n",
      "Revenus_de 35,000 a 50,000            18523 non-null uint8\n",
      "Revenus_de 350,000 a 500,000          18523 non-null uint8\n",
      "Revenus_de 50,000 a 100,000           18523 non-null uint8\n",
      "Revenus_plus de 500,000               18523 non-null uint8\n",
      "Statut                                18523 non-null int64\n",
      "dtypes: float64(6), int64(1), uint8(15)\n",
      "memory usage: 1.3 MB\n"
     ]
    },
    {
     "data": {
      "text/html": [
       "<div>\n",
       "<style scoped>\n",
       "    .dataframe tbody tr th:only-of-type {\n",
       "        vertical-align: middle;\n",
       "    }\n",
       "\n",
       "    .dataframe tbody tr th {\n",
       "        vertical-align: top;\n",
       "    }\n",
       "\n",
       "    .dataframe thead th {\n",
       "        text-align: right;\n",
       "    }\n",
       "</style>\n",
       "<table border=\"1\" class=\"dataframe\">\n",
       "  <thead>\n",
       "    <tr style=\"text-align: right;\">\n",
       "      <th></th>\n",
       "      <th>NbJoursCR</th>\n",
       "      <th>NbJoursDB</th>\n",
       "      <th>SoldeCrMoyDev</th>\n",
       "      <th>SoldeDbMoyDev</th>\n",
       "      <th>nbp</th>\n",
       "      <th>age</th>\n",
       "      <th>SECTEURA_PARTICULIERS NON SALARIES</th>\n",
       "      <th>SECTEURA_PARTICULIERS SALARIES</th>\n",
       "      <th>SECTEURA_SECTEURS NON IDENTIF</th>\n",
       "      <th>Sexe_F</th>\n",
       "      <th>...</th>\n",
       "      <th>SituationMatrimoniale_D</th>\n",
       "      <th>SituationMatrimoniale_M</th>\n",
       "      <th>Revenus_0</th>\n",
       "      <th>Revenus_SANS REVENU FIXE</th>\n",
       "      <th>Revenus_de 100,000 a 200,000</th>\n",
       "      <th>Revenus_de 35,000 a 50,000</th>\n",
       "      <th>Revenus_de 350,000 a 500,000</th>\n",
       "      <th>Revenus_de 50,000 a 100,000</th>\n",
       "      <th>Revenus_plus de 500,000</th>\n",
       "      <th>Statut</th>\n",
       "    </tr>\n",
       "  </thead>\n",
       "  <tbody>\n",
       "    <tr>\n",
       "      <td>0</td>\n",
       "      <td>0.87500</td>\n",
       "      <td>1.000000</td>\n",
       "      <td>0.001094</td>\n",
       "      <td>0.999020</td>\n",
       "      <td>0.40</td>\n",
       "      <td>0.443182</td>\n",
       "      <td>1</td>\n",
       "      <td>0</td>\n",
       "      <td>0</td>\n",
       "      <td>0</td>\n",
       "      <td>...</td>\n",
       "      <td>0</td>\n",
       "      <td>0</td>\n",
       "      <td>0</td>\n",
       "      <td>1</td>\n",
       "      <td>0</td>\n",
       "      <td>0</td>\n",
       "      <td>0</td>\n",
       "      <td>0</td>\n",
       "      <td>0</td>\n",
       "      <td>0</td>\n",
       "    </tr>\n",
       "    <tr>\n",
       "      <td>1</td>\n",
       "      <td>0.56250</td>\n",
       "      <td>0.967742</td>\n",
       "      <td>0.001081</td>\n",
       "      <td>0.999917</td>\n",
       "      <td>0.28</td>\n",
       "      <td>0.488636</td>\n",
       "      <td>0</td>\n",
       "      <td>1</td>\n",
       "      <td>0</td>\n",
       "      <td>1</td>\n",
       "      <td>...</td>\n",
       "      <td>0</td>\n",
       "      <td>0</td>\n",
       "      <td>0</td>\n",
       "      <td>0</td>\n",
       "      <td>0</td>\n",
       "      <td>0</td>\n",
       "      <td>1</td>\n",
       "      <td>0</td>\n",
       "      <td>0</td>\n",
       "      <td>0</td>\n",
       "    </tr>\n",
       "    <tr>\n",
       "      <td>2</td>\n",
       "      <td>0.03125</td>\n",
       "      <td>0.000000</td>\n",
       "      <td>0.000000</td>\n",
       "      <td>1.000000</td>\n",
       "      <td>0.04</td>\n",
       "      <td>0.590909</td>\n",
       "      <td>1</td>\n",
       "      <td>0</td>\n",
       "      <td>0</td>\n",
       "      <td>0</td>\n",
       "      <td>...</td>\n",
       "      <td>0</td>\n",
       "      <td>1</td>\n",
       "      <td>0</td>\n",
       "      <td>1</td>\n",
       "      <td>0</td>\n",
       "      <td>0</td>\n",
       "      <td>0</td>\n",
       "      <td>0</td>\n",
       "      <td>0</td>\n",
       "      <td>0</td>\n",
       "    </tr>\n",
       "    <tr>\n",
       "      <td>3</td>\n",
       "      <td>0.68750</td>\n",
       "      <td>1.000000</td>\n",
       "      <td>0.001079</td>\n",
       "      <td>0.989979</td>\n",
       "      <td>0.80</td>\n",
       "      <td>0.329545</td>\n",
       "      <td>1</td>\n",
       "      <td>0</td>\n",
       "      <td>0</td>\n",
       "      <td>1</td>\n",
       "      <td>...</td>\n",
       "      <td>0</td>\n",
       "      <td>0</td>\n",
       "      <td>0</td>\n",
       "      <td>0</td>\n",
       "      <td>0</td>\n",
       "      <td>0</td>\n",
       "      <td>0</td>\n",
       "      <td>0</td>\n",
       "      <td>1</td>\n",
       "      <td>0</td>\n",
       "    </tr>\n",
       "    <tr>\n",
       "      <td>4</td>\n",
       "      <td>0.75000</td>\n",
       "      <td>1.000000</td>\n",
       "      <td>0.000102</td>\n",
       "      <td>0.999900</td>\n",
       "      <td>0.28</td>\n",
       "      <td>0.409091</td>\n",
       "      <td>1</td>\n",
       "      <td>0</td>\n",
       "      <td>0</td>\n",
       "      <td>1</td>\n",
       "      <td>...</td>\n",
       "      <td>0</td>\n",
       "      <td>0</td>\n",
       "      <td>0</td>\n",
       "      <td>1</td>\n",
       "      <td>0</td>\n",
       "      <td>0</td>\n",
       "      <td>0</td>\n",
       "      <td>0</td>\n",
       "      <td>0</td>\n",
       "      <td>0</td>\n",
       "    </tr>\n",
       "  </tbody>\n",
       "</table>\n",
       "<p>5 rows × 22 columns</p>\n",
       "</div>"
      ],
      "text/plain": [
       "   NbJoursCR  NbJoursDB  SoldeCrMoyDev  SoldeDbMoyDev   nbp       age  \\\n",
       "0    0.87500   1.000000       0.001094       0.999020  0.40  0.443182   \n",
       "1    0.56250   0.967742       0.001081       0.999917  0.28  0.488636   \n",
       "2    0.03125   0.000000       0.000000       1.000000  0.04  0.590909   \n",
       "3    0.68750   1.000000       0.001079       0.989979  0.80  0.329545   \n",
       "4    0.75000   1.000000       0.000102       0.999900  0.28  0.409091   \n",
       "\n",
       "   SECTEURA_PARTICULIERS NON SALARIES  SECTEURA_PARTICULIERS SALARIES  \\\n",
       "0                                   1                               0   \n",
       "1                                   0                               1   \n",
       "2                                   1                               0   \n",
       "3                                   1                               0   \n",
       "4                                   1                               0   \n",
       "\n",
       "   SECTEURA_SECTEURS NON IDENTIF  Sexe_F  ...  SituationMatrimoniale_D  \\\n",
       "0                              0       0  ...                        0   \n",
       "1                              0       1  ...                        0   \n",
       "2                              0       0  ...                        0   \n",
       "3                              0       1  ...                        0   \n",
       "4                              0       1  ...                        0   \n",
       "\n",
       "   SituationMatrimoniale_M  Revenus_0  Revenus_SANS REVENU FIXE  \\\n",
       "0                        0          0                         1   \n",
       "1                        0          0                         0   \n",
       "2                        1          0                         1   \n",
       "3                        0          0                         0   \n",
       "4                        0          0                         1   \n",
       "\n",
       "   Revenus_de 100,000 a 200,000  Revenus_de 35,000 a 50,000  \\\n",
       "0                             0                           0   \n",
       "1                             0                           0   \n",
       "2                             0                           0   \n",
       "3                             0                           0   \n",
       "4                             0                           0   \n",
       "\n",
       "   Revenus_de 350,000 a 500,000  Revenus_de 50,000 a 100,000  \\\n",
       "0                             0                            0   \n",
       "1                             1                            0   \n",
       "2                             0                            0   \n",
       "3                             0                            0   \n",
       "4                             0                            0   \n",
       "\n",
       "   Revenus_plus de 500,000  Statut  \n",
       "0                        0       0  \n",
       "1                        0       0  \n",
       "2                        0       0  \n",
       "3                        1       0  \n",
       "4                        0       0  \n",
       "\n",
       "[5 rows x 22 columns]"
      ]
     },
     "execution_count": 5,
     "metadata": {},
     "output_type": "execute_result"
    }
   ],
   "source": [
    "df = pd.DataFrame()\n",
    "mms = MinMaxScaler()\n",
    "df[numerical] = pd.DataFrame(mms.fit_transform(file[numerical]))\n",
    "df = pd.concat([df, pd.get_dummies(file[categorical]), file['Statut']], axis=1)\n",
    "df.info()\n",
    "df.head(5)"
   ]
  },
  {
   "cell_type": "code",
   "execution_count": null,
   "metadata": {},
   "outputs": [],
   "source": [
    "import csv\n",
    "df.to_csv('test',sep=\"|\")"
   ]
  },
  {
   "cell_type": "code",
   "execution_count": null,
   "metadata": {},
   "outputs": [],
   "source": [
    "#suppression des outliers\n",
    "indices = file[file['age'] <18].index\n",
    "file.drop(indices, inplace=True)"
   ]
  },
  {
   "cell_type": "markdown",
   "metadata": {},
   "source": [
    "# Neural network\n"
   ]
  },
  {
   "cell_type": "code",
   "execution_count": 6,
   "metadata": {},
   "outputs": [],
   "source": [
    "X = df.drop('Statut',axis=1)\n",
    "Y = df.Statut\n",
    "X_train3, X_test3, y_train3, y_test3 = train_test_split(X, Y, test_size=0.2, shuffle=True, random_state=1234)"
   ]
  },
  {
   "cell_type": "code",
   "execution_count": null,
   "metadata": {},
   "outputs": [],
   "source": [
    "mlp = MLPClassifier()\n",
    "mlp.fit(X_train3,y_train3)"
   ]
  },
  {
   "cell_type": "code",
   "execution_count": null,
   "metadata": {},
   "outputs": [],
   "source": [
    "param_grid=[{\"hidden_layer_sizes\":list([(3,),(4,),(5,),(6,),(7,),(8,),(8,),(10,)])}]\n",
    "para= GridSearchCV(MLPClassifier(max_iter=700),param_grid,cv=10,n_jobs=-1)\n",
    "mlp=para.fit(X_train3, y_train3)\n",
    "# optimal parameter\n",
    "print(\"Meilleur score = %f, Meilleur paramètre = %s\" % (1. - mlp.best_score_,mlp.best_params_))"
   ]
  },
  {
   "cell_type": "code",
   "execution_count": 7,
   "metadata": {},
   "outputs": [
    {
     "data": {
      "text/plain": [
       "MLPClassifier(activation='logistic', alpha=0.0001, batch_size='auto',\n",
       "              beta_1=0.9, beta_2=0.999, early_stopping=False, epsilon=1e-08,\n",
       "              hidden_layer_sizes=(4,), learning_rate='constant',\n",
       "              learning_rate_init=0.001, max_iter=200, momentum=0.9,\n",
       "              n_iter_no_change=10, nesterovs_momentum=True, power_t=0.5,\n",
       "              random_state=None, shuffle=True, solver='lbfgs', tol=0.0001,\n",
       "              validation_fraction=0.1, verbose=False, warm_start=False)"
      ]
     },
     "execution_count": 7,
     "metadata": {},
     "output_type": "execute_result"
    }
   ],
   "source": [
    "rna = MLPClassifier(hidden_layer_sizes=(4,),activation=\"logistic\",solver=\"lbfgs\")\n",
    "rna.fit(X_train3,y_train3)"
   ]
  },
  {
   "cell_type": "code",
   "execution_count": 8,
   "metadata": {},
   "outputs": [
    {
     "data": {
      "text/plain": [
       "array([0, 0, 0, ..., 0, 0, 0], dtype=int64)"
      ]
     },
     "execution_count": 8,
     "metadata": {},
     "output_type": "execute_result"
    }
   ],
   "source": [
    "rna.predict(X_test3) #Pour avoir les prédictions"
   ]
  },
  {
   "cell_type": "code",
   "execution_count": null,
   "metadata": {},
   "outputs": [],
   "source": [
    "#affichage des coefficients\n",
    "print(rna.coefs_)"
   ]
  },
  {
   "cell_type": "code",
   "execution_count": null,
   "metadata": {},
   "outputs": [],
   "source": [
    "print(rna.intercepts_) #les coefficients"
   ]
  },
  {
   "cell_type": "code",
   "execution_count": null,
   "metadata": {},
   "outputs": [],
   "source": [
    "result_mlp = 1-rna.score(X_test3,y_test3)\n",
    "print(result_mlp)\n",
    "\n",
    "y_pred_mlp = rna.predict(X_test3)\n",
    "\n",
    "resultsTrain.append(1 - rna.score(X_train3,y_train3))\n",
    "results.append(result_mlp)\n",
    "gini.append(Gini(y_test3,y_pred_mlp))\n",
    "results_labels.append('MLP')"
   ]
  },
  {
   "cell_type": "code",
   "execution_count": null,
   "metadata": {},
   "outputs": [],
   "source": [
    "#prédiction sur l'échantillon test\n",
    "y_pred = rna.predict(X_test3)\n",
    "print(y_pred)"
   ]
  },
  {
   "cell_type": "code",
   "execution_count": null,
   "metadata": {},
   "outputs": [],
   "source": [
    "#figure \n",
    "fpr, tpr, thresholds = roc_curve(y_test2, y_pred[:, 1])\n",
    "roc_auc = auc(fpr, tpr)\n",
    "plt.figure(figsize=(8,8))\n",
    "plt.plot(fpr, tpr, color='darkorange', label='ROC curve (area = %0.2f)' % roc_auc)\n",
    "plt.plot([0, 1], [0, 1], color='navy', linestyle='--')\n",
    "plt.xlim([0.0, 1.0])\n",
    "plt.ylim([0.0, 1.05])\n",
    "plt.xlabel('False Positive Rate')\n",
    "plt.ylabel('True Positive Rate')\n",
    "plt.title('Receiver operating characteristic')\n",
    "plt.legend(loc=\"lower right\")\n",
    "plt.show()"
   ]
  },
  {
   "cell_type": "code",
   "execution_count": null,
   "metadata": {},
   "outputs": [],
   "source": [
    "rna = MLPClassifier(hidden_layer_sizes=(4,8),activation=\"logistic\",solver=\"lbfgs\")\n",
    "rna.fit(X_train3,y_train3)\n",
    "y_pred = rna.predict(X_test3)\n",
    "from sklearn import metrics\n",
    "print(metrics.confusion_matrix(y_test3,y_pred))\n",
    "print(metrics.accuracy_score(y_test3,y_pred))\n",
    "print(\"Taux erreur = \" + str(1-metrics.accuracy_score(y_test3,y_pred)))"
   ]
  },
  {
   "cell_type": "code",
   "execution_count": null,
   "metadata": {},
   "outputs": [],
   "source": [
    "y_pred_proba = rna.predict_proba(X_test2)[::,1]"
   ]
  },
  {
   "cell_type": "code",
   "execution_count": null,
   "metadata": {
    "scrolled": true
   },
   "outputs": [],
   "source": [
    "#roc curve entre y predit et y d fichier test\n",
    "fpr, tpr, _ = metrics.roc_curve(y_test,  y_pred_proba)\n",
    "auc = metrics.roc_auc_score(y_test, y_pred_proba)\n",
    "plt.plot(fpr,tpr,label=\"Modèle 3, auc=\"+str(auc))\n",
    "plt.plot([0, 1], [0, 1], color='navy', linestyle='--')\n",
    "plt.xlim([0.0, 1.0])\n",
    "plt.ylim([0.0, 1.05])\n",
    "plt.legend(loc=4)\n",
    "plt.show()"
   ]
  },
  {
   "cell_type": "code",
   "execution_count": null,
   "metadata": {
    "scrolled": true
   },
   "outputs": [],
   "source": [
    "#Afficher une figure permettant de voir la fréquence des pret en fonction du statut\n",
    "labels = ['Bons','Mauvais']\n",
    "classes = pd.value_counts(file['Statut'], sort = True)\n",
    "classes.plot(kind = 'bar', rot=0)\n",
    "plt.title(\"Frequence du prêt en fonction du statut\")\n",
    "plt.xticks(range(2), labels)\n",
    "plt.xlabel(\"prêt\")\n",
    "plt.ylabel(\"Frequency\")"
   ]
  },
  {
   "cell_type": "code",
   "execution_count": null,
   "metadata": {
    "scrolled": true
   },
   "outputs": [],
   "source": [
    "plt.scatter(file['Revenus'], file['age'],c='blue', alpha=0.5)\n",
    "plt.xlabel(\"Revenus du personne\")\n",
    "plt.ylabel(\"age\")\n",
    "plt.show()"
   ]
  },
  {
   "cell_type": "code",
   "execution_count": null,
   "metadata": {
    "scrolled": false
   },
   "outputs": [],
   "source": [
    "file.hist(column='Revenus',by='Statut',bins=30)"
   ]
  },
  {
   "cell_type": "code",
   "execution_count": null,
   "metadata": {},
   "outputs": [],
   "source": [
    "ax = sns.countplot('Sexe',hue='Revenus', data = file)\n",
    "plt.ylabel('Nombre total')\n",
    "plt.show()"
   ]
  },
  {
   "cell_type": "code",
   "execution_count": null,
   "metadata": {},
   "outputs": [],
   "source": [
    "import seaborn as sns\n",
    "sns.set_style('whitegrid')\n",
    "ax=sns.boxplot(x='Statut',y='Revenus' , data=file)\n",
    "ax=sns.stripplot(x='Statut',y='Revenus',data=file)"
   ]
  },
  {
   "cell_type": "code",
   "execution_count": null,
   "metadata": {},
   "outputs": [],
   "source": [
    "gender_df = file.groupby(['Sexe','Statut'])['Revenus'].value_counts()\n",
    "gender_df"
   ]
  },
  {
   "cell_type": "code",
   "execution_count": null,
   "metadata": {},
   "outputs": [],
   "source": [
    "#suppression des outliers\n",
    "indices = file[file['age'] <18].index\n",
    "file.drop(indices, inplace=True)"
   ]
  },
  {
   "cell_type": "code",
   "execution_count": null,
   "metadata": {
    "scrolled": true
   },
   "outputs": [],
   "source": [
    "file.drop(file[ (file['Revenus'] !='de 100,000 a 200,000') & (file['Revenus']!='de 50,000 a 100,000')& (file['Revenus']!='SANS REVENU FIXE') \n",
    "                 &(file['Revenus']!='plus de 500,000')& \n",
    "                 (file['Revenus'] !='0')& \n",
    "                (file['Revenus']!='de 35,000 a 50,000') &(file['Revenus'] !='de 350,000 a 500,000') ].index, inplace=True)"
   ]
  },
  {
   "cell_type": "code",
   "execution_count": null,
   "metadata": {},
   "outputs": [],
   "source": [
    "import seaborn as sns\n",
    "plt.figure()\n",
    "sns.set(font_scale=1)\n",
    "sns.heatmap(file[numerical].corr(), cmap=\"Blues\", annot=True, fmt=\".2f\")\n",
    "plt.show()"
   ]
  },
  {
   "cell_type": "code",
   "execution_count": 9,
   "metadata": {},
   "outputs": [],
   "source": [
    "fil= pd.read_excel(\"C:/Users/hp/pfedossier/fichtest.xlsx\")"
   ]
  },
  {
   "cell_type": "code",
   "execution_count": 16,
   "metadata": {},
   "outputs": [
    {
     "name": "stdout",
     "output_type": "stream",
     "text": [
      "['NbJoursCR', 'NbJoursDB', 'SoldeDbMoyDev', 'SoldeCrMoyDev', 'nbp', 'age', 'SECTEURA_PARTICULIERS NON SALARIES', 'SECTEURA_PARTICULIERS SALARIES', 'SECTEURA_SECTEURS NON IDENTIF', 'Sexe_F', 'Sexe_M', 'SituationMatrimoniale_D', 'SituationMatrimoniale_M', 'Revenus_0', 'Revenus_SANS REVENU FIXE', 'Revenus_de 100,000 a 200,000', 'Revenus_de 35,000 a 50,000', 'Revenus_de 350,000 a 500,000', 'Revenus_de 50,000 a 100,000', 'Revenus_plus de 500,000', 'SituationMatrimoniale_C']\n",
      "[]\n"
     ]
    }
   ],
   "source": [
    "numerical = []\n",
    "for col in fil.columns:\n",
    "    if (fil[col].dtype == np.int64 or fil[col].dtype == np.float64) and not col=='Statut' and not col=='Unnamed: 0'and not col=='Unnamed: 0.1' and not col=='Unnamed: 0.1.1':\n",
    "        numerical.append(col)\n",
    "\n",
    "categorical = []\n",
    "for col in fil.columns:\n",
    "    if fil[col].dtype == np.object and not col=='Client':\n",
    "        categorical.append(col)\n",
    "\n",
    "print(numerical)\n",
    "print(categorical)"
   ]
  },
  {
   "cell_type": "code",
   "execution_count": 17,
   "metadata": {},
   "outputs": [
    {
     "name": "stdout",
     "output_type": "stream",
     "text": [
      "<class 'pandas.core.frame.DataFrame'>\n",
      "RangeIndex: 9 entries, 0 to 8\n",
      "Data columns (total 21 columns):\n",
      "NbJoursCR                             9 non-null float64\n",
      "NbJoursDB                             9 non-null float64\n",
      "SoldeDbMoyDev                         9 non-null float64\n",
      "SoldeCrMoyDev                         9 non-null float64\n",
      "nbp                                   9 non-null float64\n",
      "age                                   9 non-null float64\n",
      "SECTEURA_PARTICULIERS NON SALARIES    9 non-null float64\n",
      "SECTEURA_PARTICULIERS SALARIES        9 non-null float64\n",
      "SECTEURA_SECTEURS NON IDENTIF         9 non-null float64\n",
      "Sexe_F                                9 non-null float64\n",
      "Sexe_M                                9 non-null float64\n",
      "SituationMatrimoniale_D               9 non-null float64\n",
      "SituationMatrimoniale_M               9 non-null float64\n",
      "Revenus_0                             9 non-null float64\n",
      "Revenus_SANS REVENU FIXE              9 non-null float64\n",
      "Revenus_de 100,000 a 200,000          9 non-null float64\n",
      "Revenus_de 35,000 a 50,000            9 non-null float64\n",
      "Revenus_de 350,000 a 500,000          9 non-null float64\n",
      "Revenus_de 50,000 a 100,000           9 non-null float64\n",
      "Revenus_plus de 500,000               9 non-null float64\n",
      "SituationMatrimoniale_C               9 non-null float64\n",
      "dtypes: float64(21)\n",
      "memory usage: 1.6 KB\n"
     ]
    }
   ],
   "source": [
    "fi= pd.DataFrame()\n",
    "mms = MinMaxScaler()\n",
    "fi[numerical] = pd.DataFrame(mms.fit_transform(fil[numerical]))\n",
    "fi = pd.concat([fi, fil[categorical]], axis=1)\n",
    "fi.info()"
   ]
  },
  {
   "cell_type": "code",
   "execution_count": 18,
   "metadata": {},
   "outputs": [
    {
     "data": {
      "text/plain": [
       "array([0, 0, 0, 1, 0, 1, 1, 0, 1], dtype=int64)"
      ]
     },
     "execution_count": 18,
     "metadata": {},
     "output_type": "execute_result"
    }
   ],
   "source": [
    "rna.predict(fil)"
   ]
  },
  {
   "cell_type": "code",
   "execution_count": 19,
   "metadata": {},
   "outputs": [],
   "source": [
    "pred=rna.predict_proba(fil) "
   ]
  },
  {
   "cell_type": "code",
   "execution_count": 22,
   "metadata": {},
   "outputs": [
    {
     "data": {
      "text/plain": [
       "array([[9.99944095e-01, 5.59045100e-05],\n",
       "       [9.99944095e-01, 5.59045100e-05],\n",
       "       [9.99944095e-01, 5.59045100e-05],\n",
       "       [1.01709897e-04, 9.99898290e-01],\n",
       "       [9.99944095e-01, 5.59045100e-05],\n",
       "       [1.01709897e-04, 9.99898290e-01],\n",
       "       [1.01709897e-04, 9.99898290e-01],\n",
       "       [9.99944095e-01, 5.59045100e-05],\n",
       "       [1.01709897e-04, 9.99898290e-01]])"
      ]
     },
     "execution_count": 22,
     "metadata": {},
     "output_type": "execute_result"
    }
   ],
   "source": [
    "#[[BON,Mauvais]]\n",
    "pred"
   ]
  },
  {
   "cell_type": "markdown",
   "metadata": {},
   "source": [
    "\n",
    "# Reg"
   ]
  },
  {
   "cell_type": "code",
   "execution_count": null,
   "metadata": {},
   "outputs": [],
   "source": [
    "f= pd.DataFrame()\n",
    "mms = MinMaxScaler()\n",
    "f[numerical] = pd.DataFrame(mms.fit_transform(file[numerical]))\n",
    "f = pd.concat([f, file[categorical], file['Statut']], axis=1)\n",
    "f.info()"
   ]
  },
  {
   "cell_type": "code",
   "execution_count": null,
   "metadata": {
    "scrolled": false
   },
   "outputs": [],
   "source": [
    "X = df.drop('Statut',axis=1)\n",
    "Y = df.Statut\n",
    "X_train, X_test, y_train, y_test = train_test_split(X, Y, test_size=0.2,shuffle=True, random_state=1234)\n",
    "print(X_train.shape)\n",
    "print(X_test.shape)"
   ]
  },
  {
   "cell_type": "code",
   "execution_count": null,
   "metadata": {
    "scrolled": false
   },
   "outputs": [],
   "source": [
    "LR = LogisticRegression(random_state=1234)\n",
    "parameters = {'penalty':['l1', 'l2'], 'C':[10, 9, 8, 7, 6, 5, 4, 3, 2, 1.5, 1.4, 1.3, 1.2, 1.1, 1, 0.9, 0.8, 0.7, 0.6, 0.5, 0.4, 0.3, 0.2, 0.1, 0.01, 0.001]}\n",
    "skf = StratifiedKFold(n_splits=5, shuffle=True, random_state=1234)\n",
    "clf = GridSearchCV(LR, parameters, scoring='roc_auc', cv=skf)\n",
    "clf.fit(X_train, y_train)\n",
    "\n",
    "print('The best parameters for Logistic Regression: ', clf.best_params_)\n",
    "print('ROC-AUC score on train set: ', round(clf.best_score_, 4))\n",
    "\n",
    "y_pred1 = clf.predict_proba(X_test)\n",
    "roc_score = roc_auc_score(y_test, y_pred1[:, 1])\n",
    "print('ROC-AUC score on test set: ', round(roc_score, 4))"
   ]
  },
  {
   "cell_type": "code",
   "execution_count": null,
   "metadata": {},
   "outputs": [],
   "source": [
    "clf = LogisticRegression(penalty='l1', C=10, random_state=1234)\n",
    "clf.fit(X_train,y_train)\n",
    "result_rg = 1-clf.score(X_test,y_test)\n",
    "print(result_rg)\n",
    "\n",
    "y_pred_rg = clf.predict(X_test)\n",
    "\n",
    "resultsTrain.append(1 - clf.score(X_train,y_train))\n",
    "results.append(result_rg)\n",
    "gini.append(Gini(y_test,y_pred_rg))\n",
    "results_labels.append('RL')"
   ]
  },
  {
   "cell_type": "code",
   "execution_count": null,
   "metadata": {},
   "outputs": [],
   "source": [
    "Gini(y_test2,y_pred)"
   ]
  },
  {
   "cell_type": "code",
   "execution_count": null,
   "metadata": {},
   "outputs": [],
   "source": [
    "LR = LogisticRegression(penalty='l1', C=10, random_state=1234)\n",
    "LR.fit(X_train,y_train)\n",
    "print(LR.coef_)\n",
    "print(LR.intercept_)"
   ]
  },
  {
   "cell_type": "code",
   "execution_count": null,
   "metadata": {},
   "outputs": [],
   "source": [
    "import sklearn.metrics as metrics\n",
    "y_pred_proba = clf.predict_proba(X_test)[::,1]\n",
    "fpr, tpr, _ = metrics.roc_curve(y_test,  y_pred_proba)\n",
    "auc = metrics.roc_auc_score(y_test, y_pred_proba)\n",
    "plt.plot(fpr,tpr,label=\"Modèle 1, auc=\"+str(auc))\n",
    "plt.plot([0, 1], [0, 1], color='navy', linestyle='--')\n",
    "plt.xlim([0.0, 1.0])\n",
    "plt.ylim([0.0, 1.05])\n",
    "plt.legend(loc=4)\n",
    "plt.show()"
   ]
  },
  {
   "cell_type": "code",
   "execution_count": null,
   "metadata": {
    "scrolled": false
   },
   "outputs": [],
   "source": [
    "LR = LogisticRegression(penalty='l1', C=10, random_state=1234)\n",
    "skf = StratifiedKFold(n_splits=5, shuffle=True, random_state=1234)\n",
    "selector = RFECV(estimator=LR, step=1, cv=skf, scoring='roc_auc')\n",
    "selector.fit(X_train, y_train)\n",
    "\n",
    "print('The optimal number of features is {}'.format(selector.n_features_))\n",
    "features = [f for f,s in zip(X_train.columns, selector.support_) if s]\n",
    "print('The selected features are:')\n",
    "print ('{}'.format(features))"
   ]
  },
  {
   "cell_type": "code",
   "execution_count": null,
   "metadata": {},
   "outputs": [],
   "source": []
  },
  {
   "cell_type": "code",
   "execution_count": null,
   "metadata": {
    "scrolled": false
   },
   "outputs": [],
   "source": [
    "d= pd.DataFrame()\n",
    "d = df[['NbJoursCR', 'NbJoursDB', 'nbp', 'age', 'SECTEURA_PARTICULIERS SALARIES', 'Sexe_M', 'Revenus_0', 'Revenus_SANS REVENU FIXE', 'Revenus_de 100,000 a 200,000', 'Revenus_de 350,000 a 500,000', 'Revenus_de 50,000 a 100,000', 'Revenus_plus de 500,000']]\n",
    "d= pd.concat([d, file['Statut']], axis=1)\n",
    "d.info()"
   ]
  },
  {
   "cell_type": "code",
   "execution_count": null,
   "metadata": {},
   "outputs": [],
   "source": [
    "clf=LogisticRegression(penalty='l1', C=10, random_state=1234)\n",
    "clf.fit(X_train, y_train)\n",
    "# Decreasing features importance\n",
    "importances_log = abs(clf.coef_[0])\n",
    "importances_log = importances_log/np.sum(importances_log)\n",
    "indices= np.argsort(importances_log)[::-1]\n",
    "for f in range(X.shape[1]):\n",
    "    print(df.columns[indices[f]], importances_log[indices[f]])"
   ]
  },
  {
   "cell_type": "code",
   "execution_count": null,
   "metadata": {},
   "outputs": [],
   "source": [
    "plt.figure(figsize=(10,15))\n",
    "plt.title(\"Importances des variables\")\n",
    "plt.barh(range(X_train.shape[1]), importances_log[indices][::-1], align='center')\n",
    "plt.yticks(range(X_train.shape[1]), [df.columns[i] for i in indices[::-1]])\n",
    "plt.show()"
   ]
  },
  {
   "cell_type": "code",
   "execution_count": null,
   "metadata": {},
   "outputs": [],
   "source": [
    "clf=LogisticRegression(penalty='l1', C=0.8, random_state=1234)\n",
    "clf.fit(X_train3, y_train3)\n",
    "\n",
    "y_pred3 = clf.predict_proba(X_test3)\n",
    "roc_score = roc_auc_score(y_test3, y_pred3[:, 1])\n",
    "print('ROC-AUC score on test set: ', round(roc_score, 4))"
   ]
  },
  {
   "cell_type": "code",
   "execution_count": null,
   "metadata": {},
   "outputs": [],
   "source": [
    "from sklearn import metrics\n",
    "print(metrics.confusion_matrix(y_test2,y_pred))\n",
    "print(metrics.accuracy_score(y_test2,y_pred))\n",
    "print(\"Taux erreur = \" + str(1-metrics.accuracy_score(y_test2,y_pred)))"
   ]
  },
  {
   "cell_type": "code",
   "execution_count": null,
   "metadata": {},
   "outputs": [],
   "source": [
    "X = d.drop('Statut',axis=1)\n",
    "Y = d.Statut\n",
    "X_train3, X_test3, y_train3, y_test3 = train_test_split(X, Y, test_size=0.3, shuffle=True, random_state=1234)"
   ]
  },
  {
   "cell_type": "code",
   "execution_count": null,
   "metadata": {},
   "outputs": [],
   "source": [
    "import statsmodels.api as sm\n",
    "logit_model=sm.Logit(y_train3,X_train3)\n",
    "result=logit_model.fit()\n",
    "print(result.summary())"
   ]
  },
  {
   "cell_type": "code",
   "execution_count": null,
   "metadata": {},
   "outputs": [],
   "source": [
    "y_pred3 = result.predict(X_test3)\n",
    "roc_score = roc_auc_score(y_test3, y_pred3)\n",
    "print('ROC-AUC score on test set: ', round(roc_score, 4))"
   ]
  },
  {
   "cell_type": "code",
   "execution_count": null,
   "metadata": {
    "scrolled": false
   },
   "outputs": [],
   "source": [
    "y_pred3"
   ]
  },
  {
   "cell_type": "code",
   "execution_count": null,
   "metadata": {
    "scrolled": false
   },
   "outputs": [],
   "source": [
    "pos = pd.get_dummies(y_test).as_matrix()"
   ]
  },
  {
   "cell_type": "code",
   "execution_count": null,
   "metadata": {
    "scrolled": false
   },
   "outputs": [],
   "source": [
    "pos"
   ]
  },
  {
   "cell_type": "code",
   "execution_count": null,
   "metadata": {
    "scrolled": false
   },
   "outputs": [],
   "source": [
    "reg_1 = linear_model.LogisticRegression()\n",
    "reg_1.fit(X_train, y_train)\n",
    "#Coefficients:\n",
    "print( \"Coefficients are: {0}\".format(reg_1.coef_))\n",
    "\n",
    "#Intercept is:\n",
    "print (\"Intercept is: {0}\".format(reg_1.intercept_))"
   ]
  },
  {
   "cell_type": "code",
   "execution_count": null,
   "metadata": {
    "scrolled": false
   },
   "outputs": [],
   "source": [
    "plt.figure(figsize=(15,5))\n",
    "plt.xlabel(\"Number of features selected\")\n",
    "plt.ylabel(\"Cross validation score (ROC-AUC score)\")\n",
    "plt.plot(range(1, len(selector.grid_scores_) + 1), selector.grid_scores_)\n",
    "plt.savefig('feature_auc_nselected.png', bbox_inches='tight', pad_inches=1)"
   ]
  },
  {
   "cell_type": "code",
   "execution_count": null,
   "metadata": {
    "scrolled": false
   },
   "outputs": [],
   "source": [
    "selected = selector.estimator_.coef_.reshape(-1, 1)\n",
    "table_rfecv = pd.DataFrame(selected, columns = ['coeff']) \n",
    "table_rfecv['feature'] = features\n",
    "table_rfecv.sort_values('coeff', ascending=False)"
   ]
  },
  {
   "cell_type": "markdown",
   "metadata": {},
   "source": [
    "# Decision Tree"
   ]
  },
  {
   "cell_type": "code",
   "execution_count": null,
   "metadata": {
    "scrolled": false
   },
   "outputs": [],
   "source": [
    "df_tree = pd.DataFrame()\n",
    "df_tree[numerical] = file[numerical]\n",
    "df_tree = pd.concat([df_tree, pd.get_dummies(file[categorical]), file['Statut']], axis=1)\n",
    "df_tree.info()\n",
    "\n",
    "X = df_tree.drop('Statut',axis=1)\n",
    "Y = df_tree.Statut\n",
    "X_train2, X_test2, y_train2, y_test2 = train_test_split(X, Y, test_size=0.2, shuffle=True, random_state=1234)\n",
    "\n",
    "df_tree.head(5)"
   ]
  },
  {
   "cell_type": "code",
   "execution_count": null,
   "metadata": {},
   "outputs": [],
   "source": [
    "print(X_train2.shape)"
   ]
  },
  {
   "cell_type": "code",
   "execution_count": null,
   "metadata": {
    "scrolled": false
   },
   "outputs": [],
   "source": [
    "parameters = {'criterion': ['gini', 'entropy'], 'max_depth':[x for x in range(3, 20)], 'min_samples_leaf': [1, 5, 10, 20, 30, 50, 70, 100, 150, 200, 300, 400, 500]}\n",
    "dtc = DecisionTreeClassifier(random_state=1234)\n",
    "skf = StratifiedKFold(n_splits=5, shuffle=True, random_state=17)\n",
    "cl = GridSearchCV(dtc, parameters, scoring='roc_auc', cv=skf)\n",
    "cl.fit(X_train2, y_train2)\n",
    "\n",
    "print('The best parameters for Decision Tree: ', cl.best_params_)\n",
    "print('ROC-AUC score on training set: ', round(cl.best_score_, 4))\n",
    "\n",
    "y_pred = cl.predict_proba(X_test2)\n",
    "roc_score = roc_auc_score(y_test2, y_pred[:, 1])\n",
    "print('ROC-AUC score on test set: ', round(roc_score, 4))"
   ]
  },
  {
   "cell_type": "code",
   "execution_count": null,
   "metadata": {},
   "outputs": [],
   "source": [
    "import sklearn.metrics as metrics\n",
    "y_pred = cl.predict_proba(X_test2)[:, 1]\n",
    "fpr, tpr, _ = metrics.roc_curve(y_test2,  y_pred)\n",
    "auc = metrics.roc_auc_score(y_test2, y_pred)\n",
    "plt.plot(fpr,tpr,label=\"Modèle 2, auc=\"+str(auc))\n",
    "plt.plot([0, 1], [0, 1], color='navy', linestyle='--')\n",
    "plt.xlim([0.0, 1.0])\n",
    "plt.ylim([0.0, 1.05])\n",
    "plt.legend(loc=4)\n",
    "plt.show()"
   ]
  },
  {
   "cell_type": "code",
   "execution_count": null,
   "metadata": {
    "scrolled": true
   },
   "outputs": [],
   "source": [
    "y_pred = clf.predict(X_test1)\n",
    "table_scores_total['Precision'][1] = round(precision_score(y_test1, y_pred), 2)\n",
    "table_scores_total['Recall'][1] = round(recall_score(y_test1, y_pred), 2)\n",
    "table_scores_total['Gini'][1] = round(Gini(y_test1, y_pred), 2)\n",
    "table_scores_total"
   ]
  },
  {
   "cell_type": "code",
   "execution_count": null,
   "metadata": {},
   "outputs": [],
   "source": [
    "rf = DecisionTreeClassifier(criterion='gini', max_depth=6, min_samples_leaf=50)\n",
    "cl = rf.fit(X_train2,y_train2)\n",
    "y_pred = cl.predict(X_test2)\n",
    "print(confusion_matrix(y_test2,y_pred))"
   ]
  },
  {
   "cell_type": "code",
   "execution_count": null,
   "metadata": {},
   "outputs": [],
   "source": [
    "rf = DecisionTreeClassifier(criterion='gini', max_depth=6, min_samples_leaf=50,random_state=1234)\n",
    "cl = rf.fit(X_train2,y_train2)\n",
    "y_pred = cl.predict(X_test2)\n",
    "from sklearn import metrics\n",
    "print(metrics.confusion_matrix(y_test2,y_pred))\n",
    "print(metrics.accuracy_score(y_test2,y_pred))\n",
    "print(\"Taux erreur = \" + str(1-metrics.accuracy_score(y_test2,y_pred)))"
   ]
  },
  {
   "cell_type": "code",
   "execution_count": null,
   "metadata": {
    "scrolled": false
   },
   "outputs": [],
   "source": [
    "importances_DT = cl.feature_importances_.round(4)\n",
    "indices_DT = np.argsort(importances_DT)[::-1]\n",
    "indices= np.argsort(importances_DT)[::-1]\n",
    "for f in range(X.shape[1]):\n",
    "    print(df.columns[indices[f]], importances_DT[indices[f]])"
   ]
  },
  {
   "cell_type": "code",
   "execution_count": null,
   "metadata": {},
   "outputs": [],
   "source": [
    "plt.figure(figsize=(10,15))\n",
    "plt.title(\"Importances des variables\")\n",
    "plt.barh(range(X_train2.shape[1]), importances_DT[indices][::-1], align='center')\n",
    "plt.yticks(range(X_train2.shape[1]), [df.columns[i] for i in indices[::-1]])\n",
    "plt.show()"
   ]
  },
  {
   "cell_type": "code",
   "execution_count": null,
   "metadata": {},
   "outputs": [],
   "source": [
    "Gini(y_test2,y_pred)"
   ]
  },
  {
   "cell_type": "code",
   "execution_count": null,
   "metadata": {},
   "outputs": [],
   "source": [
    "rf = DecisionTreeClassifier(criterion='gini', max_depth=6, min_samples_leaf=50,random_state=1234)\n",
    "# learning\n",
    "cl = rf.fit(X_train2,y_train2)\n",
    "result_DT= 1-cl.score(X_test2,y_test2)\n",
    "print(result_DT)\n",
    "\n",
    "y_pred_DT = cl.predict(X_test2)\n",
    "\n",
    "resultsTrain.append(1 - cl.score(X_train2,y_train2))\n",
    "results.append(result_DT)\n",
    "gini.append(Gini(y_test2,y_pred_DT))\n",
    "results_labels.append('DT')"
   ]
  },
  {
   "cell_type": "code",
   "execution_count": null,
   "metadata": {},
   "outputs": [],
   "source": [
    "dr=pd.DataFrame({'NbJoursCR': [0,10,25,95,32,80],'NbJoursDB':[89,20,56,85,23,25],'nbp':[2,6,5,9,24,52], 'age':[30,53,98,63,40,45],\n",
    "                                                              })"
   ]
  },
  {
   "cell_type": "code",
   "execution_count": null,
   "metadata": {},
   "outputs": [],
   "source": [
    "for col in dr.columns:\n",
    "    if (dr[col].dtype == np.int64 or dr[col].dtype == np.float64) and not col=='Statut' and not col=='Unnamed: 0'and not col=='Unnamed: 0.1' and not col=='Unnamed: 0.1.1':\n",
    "        numerical.append(col)\n",
    "\n",
    "categorical = []\n",
    "for col in dr.columns:\n",
    "    if dr[col].dtype == np.object and not col=='Client':\n",
    "        categorical.append(col)\n",
    "\n",
    "print(numerical)\n",
    "print(categorical)"
   ]
  },
  {
   "cell_type": "code",
   "execution_count": null,
   "metadata": {},
   "outputs": [],
   "source": [
    "import csv\n",
    "\n",
    "dr.to_csv('fich',sep=\"|\")"
   ]
  },
  {
   "cell_type": "code",
   "execution_count": null,
   "metadata": {},
   "outputs": [],
   "source": [
    "fo= pd.DataFrame()\n",
    "mms = MinMaxScaler()\n",
    "fo[numerical] = pd.DataFrame(mms.fit_transform(dr[numerical]))\n",
    "fo = pd.concat([fo, dr[categorical]], axis=1)\n",
    "fo.info()"
   ]
  },
  {
   "cell_type": "code",
   "execution_count": null,
   "metadata": {},
   "outputs": [],
   "source": [
    "y_pred3 = result.predict(fo)"
   ]
  },
  {
   "cell_type": "code",
   "execution_count": null,
   "metadata": {},
   "outputs": [],
   "source": [
    "y_pred3"
   ]
  },
  {
   "cell_type": "code",
   "execution_count": null,
   "metadata": {},
   "outputs": [],
   "source": [
    "y_pred = rna.predict(fo)"
   ]
  },
  {
   "cell_type": "code",
   "execution_count": null,
   "metadata": {},
   "outputs": [],
   "source": [
    "y_pred"
   ]
  },
  {
   "cell_type": "code",
   "execution_count": null,
   "metadata": {},
   "outputs": [],
   "source": [
    "resultsTrain = []\n",
    "results = []\n",
    "gini = []\n",
    "results_labels = []   "
   ]
  },
  {
   "cell_type": "code",
   "execution_count": null,
   "metadata": {},
   "outputs": [],
   "source": [
    "def Gini(y_true, y_pred):\n",
    "    # check and get number of samples\n",
    "    assert y_true.shape == y_pred.shape\n",
    "    n_samples = y_true.shape[0]\n",
    "    \n",
    "    # sort rows on prediction column \n",
    "    # (from largest to smallest)\n",
    "    arr = np.array([y_true, y_pred]).transpose()\n",
    "    true_order = arr[arr[:,0].argsort()][::-1,0]\n",
    "    pred_order = arr[arr[:,1].argsort()][::-1,0]\n",
    "    \n",
    "    # get Lorenz curves\n",
    "    L_true = np.cumsum(true_order) / np.sum(true_order)\n",
    "    L_pred = np.cumsum(pred_order) / np.sum(pred_order)\n",
    "    L_ones = np.linspace(1/n_samples, 1, n_samples)\n",
    "    \n",
    "    # get Gini coefficients (area between curves)\n",
    "    G_true = np.sum(L_ones - L_true)\n",
    "    G_pred = np.sum(L_ones - L_pred)\n",
    "    \n",
    "    # normalize to true Gini coefficient\n",
    "    return G_pred/G_true"
   ]
  },
  {
   "cell_type": "code",
   "execution_count": null,
   "metadata": {},
   "outputs": [],
   "source": [
    "plt.figure()\n",
    "plt.plot(results_labels, results, linestyle = 'dashed', marker = 'o')\n",
    "plt.xlabel(\"Méthodes de ML\")\n",
    "plt.ylabel(\"Erreur\")\n",
    "plt.title(\"Erreurs obtenues pour les différentes méthodes de ML\")\n",
    "plt.ylim(bottom = 0)\n",
    "plt.show()"
   ]
  },
  {
   "cell_type": "code",
   "execution_count": null,
   "metadata": {},
   "outputs": [],
   "source": [
    "plt.figure()\n",
    "plt.plot(results_labels, resultsTrain, linestyle = 'dashed', marker = 'o')\n",
    "plt.xlabel(\"Méthodes de ML\")\n",
    "plt.ylabel(\"Erreur\")\n",
    "plt.title(\"Erreurs obtenues pour les différentes méthodes de ML\")\n",
    "plt.ylim(bottom = 0)\n",
    "plt.show()"
   ]
  },
  {
   "cell_type": "code",
   "execution_count": null,
   "metadata": {},
   "outputs": [],
   "source": [
    "plt.figure()\n",
    "plt.plot(results_labels, gini, linestyle = 'dashed', marker = 'o')\n",
    "plt.xlabel(\"Méthodes de ML\")\n",
    "plt.ylabel(\"Indice de Gini\")\n",
    "plt.title(\"Indices de Gini obtenus pour les différentes méthodes de ML\")\n",
    "plt.ylim(bottom = 0, top = 1)\n",
    "plt.show()"
   ]
  },
  {
   "cell_type": "code",
   "execution_count": null,
   "metadata": {},
   "outputs": [],
   "source": [
    "print(gini)"
   ]
  }
 ],
 "metadata": {
  "kernelspec": {
   "display_name": "Python 3",
   "language": "python",
   "name": "python3"
  },
  "language_info": {
   "codemirror_mode": {
    "name": "ipython",
    "version": 3
   },
   "file_extension": ".py",
   "mimetype": "text/x-python",
   "name": "python",
   "nbconvert_exporter": "python",
   "pygments_lexer": "ipython3",
   "version": "3.7.4"
  }
 },
 "nbformat": 4,
 "nbformat_minor": 2
}
